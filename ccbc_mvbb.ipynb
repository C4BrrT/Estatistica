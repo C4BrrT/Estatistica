{
  "cells": [
    {
      "cell_type": "markdown",
      "metadata": {},
      "source": [
        "## Caio César Barreto Couto e Matheus Vellez Bione Botelho - 4° Período B\n",
        "## Disciplina: Estatística e Probabilidade"
      ]
    },
    {
      "cell_type": "code",
      "execution_count": 1,
      "metadata": {
        "id": "hD2PHyoO7ilR"
      },
      "outputs": [],
      "source": [
        "import pandas as pd #Importando as bibliotecas\n",
        "import numpy as np"
      ]
    },
    {
      "cell_type": "code",
      "execution_count": 2,
      "metadata": {},
      "outputs": [],
      "source": [
        "# from google.colab import drive #Importando o drive"
      ]
    },
    {
      "cell_type": "code",
      "execution_count": 3,
      "metadata": {},
      "outputs": [],
      "source": [
        "# drive.mount('/content/gdrive')"
      ]
    },
    {
      "cell_type": "code",
      "execution_count": 4,
      "metadata": {
        "colab": {
          "base_uri": "https://localhost:8080/",
          "height": 1000
        },
        "id": "0Xf8cJKc8TJI",
        "outputId": "3b91b8a0-f63f-40eb-8558-d8efb5f8c9a4"
      },
      "outputs": [
        {
          "data": {
            "text/html": [
              "<div>\n",
              "<style scoped>\n",
              "    .dataframe tbody tr th:only-of-type {\n",
              "        vertical-align: middle;\n",
              "    }\n",
              "\n",
              "    .dataframe tbody tr th {\n",
              "        vertical-align: top;\n",
              "    }\n",
              "\n",
              "    .dataframe thead th {\n",
              "        text-align: right;\n",
              "    }\n",
              "</style>\n",
              "<table border=\"1\" class=\"dataframe\">\n",
              "  <thead>\n",
              "    <tr style=\"text-align: right;\">\n",
              "      <th></th>\n",
              "      <th>Player</th>\n",
              "      <th>Pos</th>\n",
              "      <th>Age</th>\n",
              "      <th>Tm</th>\n",
              "      <th>G</th>\n",
              "      <th>GS</th>\n",
              "      <th>MP</th>\n",
              "      <th>FG</th>\n",
              "      <th>FGA</th>\n",
              "      <th>FG%</th>\n",
              "      <th>...</th>\n",
              "      <th>FT%</th>\n",
              "      <th>ORB</th>\n",
              "      <th>DRB</th>\n",
              "      <th>TRB</th>\n",
              "      <th>AST</th>\n",
              "      <th>STL</th>\n",
              "      <th>BLK</th>\n",
              "      <th>TOV</th>\n",
              "      <th>PF</th>\n",
              "      <th>PTS</th>\n",
              "    </tr>\n",
              "  </thead>\n",
              "  <tbody>\n",
              "    <tr>\n",
              "      <th>0</th>\n",
              "      <td>Precious Achiuwa</td>\n",
              "      <td>C</td>\n",
              "      <td>23.0</td>\n",
              "      <td>TOR</td>\n",
              "      <td>55.0</td>\n",
              "      <td>12.0</td>\n",
              "      <td>20.7</td>\n",
              "      <td>3.6</td>\n",
              "      <td>7.3</td>\n",
              "      <td>0.485</td>\n",
              "      <td>...</td>\n",
              "      <td>0.702</td>\n",
              "      <td>1.8</td>\n",
              "      <td>4.1</td>\n",
              "      <td>6.0</td>\n",
              "      <td>0.9</td>\n",
              "      <td>0.6</td>\n",
              "      <td>0.5</td>\n",
              "      <td>1.1</td>\n",
              "      <td>1.9</td>\n",
              "      <td>9.2</td>\n",
              "    </tr>\n",
              "    <tr>\n",
              "      <th>1</th>\n",
              "      <td>Steven Adams</td>\n",
              "      <td>C</td>\n",
              "      <td>29.0</td>\n",
              "      <td>MEM</td>\n",
              "      <td>42.0</td>\n",
              "      <td>42.0</td>\n",
              "      <td>27.0</td>\n",
              "      <td>3.7</td>\n",
              "      <td>6.3</td>\n",
              "      <td>0.597</td>\n",
              "      <td>...</td>\n",
              "      <td>0.364</td>\n",
              "      <td>5.1</td>\n",
              "      <td>6.5</td>\n",
              "      <td>11.5</td>\n",
              "      <td>2.3</td>\n",
              "      <td>0.9</td>\n",
              "      <td>1.1</td>\n",
              "      <td>1.9</td>\n",
              "      <td>2.3</td>\n",
              "      <td>8.6</td>\n",
              "    </tr>\n",
              "    <tr>\n",
              "      <th>2</th>\n",
              "      <td>Bam Adebayo</td>\n",
              "      <td>C</td>\n",
              "      <td>25.0</td>\n",
              "      <td>MIA</td>\n",
              "      <td>75.0</td>\n",
              "      <td>75.0</td>\n",
              "      <td>34.6</td>\n",
              "      <td>8.0</td>\n",
              "      <td>14.9</td>\n",
              "      <td>0.540</td>\n",
              "      <td>...</td>\n",
              "      <td>0.806</td>\n",
              "      <td>2.5</td>\n",
              "      <td>6.7</td>\n",
              "      <td>9.2</td>\n",
              "      <td>3.2</td>\n",
              "      <td>1.2</td>\n",
              "      <td>0.8</td>\n",
              "      <td>2.5</td>\n",
              "      <td>2.8</td>\n",
              "      <td>20.4</td>\n",
              "    </tr>\n",
              "    <tr>\n",
              "      <th>3</th>\n",
              "      <td>Ochai Agbaji</td>\n",
              "      <td>SG</td>\n",
              "      <td>22.0</td>\n",
              "      <td>UTA</td>\n",
              "      <td>59.0</td>\n",
              "      <td>22.0</td>\n",
              "      <td>20.5</td>\n",
              "      <td>2.8</td>\n",
              "      <td>6.5</td>\n",
              "      <td>0.427</td>\n",
              "      <td>...</td>\n",
              "      <td>0.812</td>\n",
              "      <td>0.7</td>\n",
              "      <td>1.3</td>\n",
              "      <td>2.1</td>\n",
              "      <td>1.1</td>\n",
              "      <td>0.3</td>\n",
              "      <td>0.3</td>\n",
              "      <td>0.7</td>\n",
              "      <td>1.7</td>\n",
              "      <td>7.9</td>\n",
              "    </tr>\n",
              "    <tr>\n",
              "      <th>4</th>\n",
              "      <td>Santi Aldama</td>\n",
              "      <td>PF</td>\n",
              "      <td>22.0</td>\n",
              "      <td>MEM</td>\n",
              "      <td>77.0</td>\n",
              "      <td>20.0</td>\n",
              "      <td>21.8</td>\n",
              "      <td>3.2</td>\n",
              "      <td>6.8</td>\n",
              "      <td>0.470</td>\n",
              "      <td>...</td>\n",
              "      <td>0.750</td>\n",
              "      <td>1.1</td>\n",
              "      <td>3.7</td>\n",
              "      <td>4.8</td>\n",
              "      <td>1.3</td>\n",
              "      <td>0.6</td>\n",
              "      <td>0.6</td>\n",
              "      <td>0.8</td>\n",
              "      <td>1.9</td>\n",
              "      <td>9.0</td>\n",
              "    </tr>\n",
              "    <tr>\n",
              "      <th>5</th>\n",
              "      <td>Nickeil Alexander-Walker</td>\n",
              "      <td>SG</td>\n",
              "      <td>24.0</td>\n",
              "      <td>TOT</td>\n",
              "      <td>59.0</td>\n",
              "      <td>3.0</td>\n",
              "      <td>15.0</td>\n",
              "      <td>2.2</td>\n",
              "      <td>5.0</td>\n",
              "      <td>0.444</td>\n",
              "      <td>...</td>\n",
              "      <td>0.667</td>\n",
              "      <td>0.3</td>\n",
              "      <td>1.5</td>\n",
              "      <td>1.7</td>\n",
              "      <td>1.8</td>\n",
              "      <td>0.5</td>\n",
              "      <td>0.4</td>\n",
              "      <td>0.9</td>\n",
              "      <td>1.5</td>\n",
              "      <td>6.2</td>\n",
              "    </tr>\n",
              "    <tr>\n",
              "      <th>6</th>\n",
              "      <td>Nickeil Alexander-Walker</td>\n",
              "      <td>SG</td>\n",
              "      <td>24.0</td>\n",
              "      <td>UTA</td>\n",
              "      <td>36.0</td>\n",
              "      <td>3.0</td>\n",
              "      <td>14.7</td>\n",
              "      <td>2.3</td>\n",
              "      <td>4.7</td>\n",
              "      <td>0.488</td>\n",
              "      <td>...</td>\n",
              "      <td>0.692</td>\n",
              "      <td>0.2</td>\n",
              "      <td>1.4</td>\n",
              "      <td>1.6</td>\n",
              "      <td>2.1</td>\n",
              "      <td>0.7</td>\n",
              "      <td>0.4</td>\n",
              "      <td>1.3</td>\n",
              "      <td>1.6</td>\n",
              "      <td>6.3</td>\n",
              "    </tr>\n",
              "    <tr>\n",
              "      <th>7</th>\n",
              "      <td>Nickeil Alexander-Walker</td>\n",
              "      <td>SG</td>\n",
              "      <td>24.0</td>\n",
              "      <td>MIN</td>\n",
              "      <td>23.0</td>\n",
              "      <td>0.0</td>\n",
              "      <td>15.5</td>\n",
              "      <td>2.1</td>\n",
              "      <td>5.4</td>\n",
              "      <td>0.384</td>\n",
              "      <td>...</td>\n",
              "      <td>0.619</td>\n",
              "      <td>0.3</td>\n",
              "      <td>1.5</td>\n",
              "      <td>1.8</td>\n",
              "      <td>1.4</td>\n",
              "      <td>0.3</td>\n",
              "      <td>0.3</td>\n",
              "      <td>0.4</td>\n",
              "      <td>1.3</td>\n",
              "      <td>5.9</td>\n",
              "    </tr>\n",
              "    <tr>\n",
              "      <th>8</th>\n",
              "      <td>Grayson Allen</td>\n",
              "      <td>SG</td>\n",
              "      <td>27.0</td>\n",
              "      <td>MIL</td>\n",
              "      <td>72.0</td>\n",
              "      <td>70.0</td>\n",
              "      <td>27.4</td>\n",
              "      <td>3.4</td>\n",
              "      <td>7.7</td>\n",
              "      <td>0.440</td>\n",
              "      <td>...</td>\n",
              "      <td>0.905</td>\n",
              "      <td>0.8</td>\n",
              "      <td>2.4</td>\n",
              "      <td>3.3</td>\n",
              "      <td>2.3</td>\n",
              "      <td>0.9</td>\n",
              "      <td>0.2</td>\n",
              "      <td>1.0</td>\n",
              "      <td>1.6</td>\n",
              "      <td>10.4</td>\n",
              "    </tr>\n",
              "    <tr>\n",
              "      <th>9</th>\n",
              "      <td>Jarrett Allen</td>\n",
              "      <td>C</td>\n",
              "      <td>24.0</td>\n",
              "      <td>CLE</td>\n",
              "      <td>68.0</td>\n",
              "      <td>68.0</td>\n",
              "      <td>32.6</td>\n",
              "      <td>5.9</td>\n",
              "      <td>9.2</td>\n",
              "      <td>0.644</td>\n",
              "      <td>...</td>\n",
              "      <td>0.733</td>\n",
              "      <td>3.3</td>\n",
              "      <td>6.5</td>\n",
              "      <td>9.8</td>\n",
              "      <td>1.7</td>\n",
              "      <td>0.8</td>\n",
              "      <td>1.2</td>\n",
              "      <td>1.4</td>\n",
              "      <td>2.3</td>\n",
              "      <td>14.3</td>\n",
              "    </tr>\n",
              "  </tbody>\n",
              "</table>\n",
              "<p>10 rows × 29 columns</p>\n",
              "</div>"
            ],
            "text/plain": [
              "                     Player Pos   Age   Tm     G    GS    MP   FG   FGA  \\\n",
              "0          Precious Achiuwa   C  23.0  TOR  55.0  12.0  20.7  3.6   7.3   \n",
              "1              Steven Adams   C  29.0  MEM  42.0  42.0  27.0  3.7   6.3   \n",
              "2               Bam Adebayo   C  25.0  MIA  75.0  75.0  34.6  8.0  14.9   \n",
              "3              Ochai Agbaji  SG  22.0  UTA  59.0  22.0  20.5  2.8   6.5   \n",
              "4              Santi Aldama  PF  22.0  MEM  77.0  20.0  21.8  3.2   6.8   \n",
              "5  Nickeil Alexander-Walker  SG  24.0  TOT  59.0   3.0  15.0  2.2   5.0   \n",
              "6  Nickeil Alexander-Walker  SG  24.0  UTA  36.0   3.0  14.7  2.3   4.7   \n",
              "7  Nickeil Alexander-Walker  SG  24.0  MIN  23.0   0.0  15.5  2.1   5.4   \n",
              "8             Grayson Allen  SG  27.0  MIL  72.0  70.0  27.4  3.4   7.7   \n",
              "9             Jarrett Allen   C  24.0  CLE  68.0  68.0  32.6  5.9   9.2   \n",
              "\n",
              "     FG%  ...    FT%  ORB  DRB   TRB  AST  STL  BLK  TOV   PF   PTS  \n",
              "0  0.485  ...  0.702  1.8  4.1   6.0  0.9  0.6  0.5  1.1  1.9   9.2  \n",
              "1  0.597  ...  0.364  5.1  6.5  11.5  2.3  0.9  1.1  1.9  2.3   8.6  \n",
              "2  0.540  ...  0.806  2.5  6.7   9.2  3.2  1.2  0.8  2.5  2.8  20.4  \n",
              "3  0.427  ...  0.812  0.7  1.3   2.1  1.1  0.3  0.3  0.7  1.7   7.9  \n",
              "4  0.470  ...  0.750  1.1  3.7   4.8  1.3  0.6  0.6  0.8  1.9   9.0  \n",
              "5  0.444  ...  0.667  0.3  1.5   1.7  1.8  0.5  0.4  0.9  1.5   6.2  \n",
              "6  0.488  ...  0.692  0.2  1.4   1.6  2.1  0.7  0.4  1.3  1.6   6.3  \n",
              "7  0.384  ...  0.619  0.3  1.5   1.8  1.4  0.3  0.3  0.4  1.3   5.9  \n",
              "8  0.440  ...  0.905  0.8  2.4   3.3  2.3  0.9  0.2  1.0  1.6  10.4  \n",
              "9  0.644  ...  0.733  3.3  6.5   9.8  1.7  0.8  1.2  1.4  2.3  14.3  \n",
              "\n",
              "[10 rows x 29 columns]"
            ]
          },
          "execution_count": 4,
          "metadata": {},
          "output_type": "execute_result"
        }
      ],
      "source": [
        "nba = pd.read_csv('C:\\Estatistica\\\\nba_data_processed.csv')\n",
        "#nba = pd.read_csv('/content/gdrive/My Drive/Estatistica/nba_data_processed.csv')\n",
        "nba.head(10)"
      ]
    },
    {
      "cell_type": "markdown",
      "metadata": {
        "id": "WY2ZdklUWaws"
      },
      "source": [
        "## Probabilidade Simples"
      ]
    },
    {
      "cell_type": "markdown",
      "metadata": {},
      "source": [
        "### Aqui calcularemos as probabilidades simples do dataset. A descrição de cada probabilidade estará abaixo de cada célula."
      ]
    },
    {
      "cell_type": "code",
      "execution_count": 5,
      "metadata": {
        "colab": {
          "base_uri": "https://localhost:8080/"
        },
        "id": "RVovkXkOBbLY",
        "outputId": "499b466a-af4e-43ec-abb4-8f8232d374f1"
      },
      "outputs": [
        {
          "name": "stdout",
          "output_type": "stream",
          "text": [
            "A probabilidade de ser titular na NBA é igual a: 22.5532%\n"
          ]
        }
      ],
      "source": [
        "probTit = len(nba[nba['GS']>=41])/len(nba)\n",
        "print('A probabilidade de ser titular na NBA é igual a: ' +str(round(probTit*100,4))+'%')"
      ]
    },
    {
      "cell_type": "markdown",
      "metadata": {},
      "source": [
        "A probabilidade de ser titular demonstra o quão difícil é ser relevante na liga. Consideramos que para um jogador ser titular, este deve ter iniciado (GS - Games Started) metade (41) ou mais da metade dos jogos de uma temporada regular da liga (82 jogos)."
      ]
    },
    {
      "cell_type": "code",
      "execution_count": 6,
      "metadata": {},
      "outputs": [
        {
          "name": "stdout",
          "output_type": "stream",
          "text": [
            "A probabilidade de ser um jogador importante na NBA é igual a: 32.6241%\n"
          ]
        }
      ],
      "source": [
        "probImp = len(nba[nba['MP']>=24])/len(nba)\n",
        "print('A probabilidade de ser um jogador importante na NBA é igual a: ' +str(round(probImp*100,4))+'%')"
      ]
    },
    {
      "cell_type": "markdown",
      "metadata": {},
      "source": [
        "A probabilidade de ser um jogador importante demonstra o quão difícil é ter espaço na liga, mesmo não sendo titular. Consideramos que para um jogador ser importante, este deve ter jogado (MP - Minutes Played) em média metade (24) ou mais da metade dos minutos de uma partida (48 minutos) durante uma temporada regular da liga."
      ]
    },
    {
      "cell_type": "code",
      "execution_count": 7,
      "metadata": {},
      "outputs": [
        {
          "name": "stdout",
          "output_type": "stream",
          "text": [
            "A probabilidade de ser um jogador que é muito agressivo na NBA é igual a: 14.3262%\n"
          ]
        }
      ],
      "source": [
        "probPF = len(nba[nba['PF']>=2.5])/len(nba)\n",
        "print('A probabilidade de ser um jogador que é muito agressivo na NBA é igual a: ' +str(round(probPF*100,4))+'%')"
      ]
    },
    {
      "cell_type": "markdown",
      "metadata": {},
      "source": [
        "A probabilidade de ser um jogador muito agressivo demonstra que nem todos os jogadores da liga podem jogar uma partida inteira, já que ao atingirem 6 faltas eles são ejetados. Consideramos que para um jogador ser muito agressivo, este deve ter uma média de faltas de 2.5 ou mais das faltas permitidas (6) durante uma partida."
      ]
    },
    {
      "cell_type": "code",
      "execution_count": 8,
      "metadata": {},
      "outputs": [
        {
          "name": "stdout",
          "output_type": "stream",
          "text": [
            "A probabilidade de ser um jogador que é um bom passador na NBA é igual a: 12.9078%\n"
          ]
        }
      ],
      "source": [
        "probAst = len(nba[nba['AST']>=4])/len(nba)\n",
        "print('A probabilidade de ser um jogador que é um bom passador na NBA é igual a: ' +str(round(probAst*100,4))+'%')"
      ]
    },
    {
      "cell_type": "markdown",
      "metadata": {},
      "source": [
        "A probabilidade de ser um bom passador demonstra que nem todos os jogadores da liga podem ser considerados armadores de jogadas, mesmo que joguem numa posição que exige essa habilidade, como armadores. Consideramos que para um jogador ser um bom passador, este deve ter uma média de 4 assistências ou mais durante uma temporada."
      ]
    },
    {
      "cell_type": "code",
      "execution_count": 9,
      "metadata": {},
      "outputs": [
        {
          "name": "stdout",
          "output_type": "stream",
          "text": [
            "A probabilidade de ser um jogador que está em fim de carreira na NBA é igual a: 13.3333%\n"
          ]
        }
      ],
      "source": [
        "probAge = len(nba[nba['Age']>=32])/len(nba)\n",
        "print('A probabilidade de ser um jogador que está em fim de carreira na NBA é igual a: ' +str(round(probAge*100,4))+'%')"
      ]
    },
    {
      "cell_type": "markdown",
      "metadata": {},
      "source": [
        "A probabilidade de ser um jogador em fim de carreira demonstra que nem todos os jogadores da liga podem jogar por muito tempo em alto nível. Consideramos que para um jogador estar em fim de carreira, este deve ter 32 anos ou mais."
      ]
    },
    {
      "cell_type": "code",
      "execution_count": 10,
      "metadata": {},
      "outputs": [
        {
          "name": "stdout",
          "output_type": "stream",
          "text": [
            "A probabilidade de ser um jogador que é um bom bloqueador na NBA é igual a: 11.0638%\n"
          ]
        }
      ],
      "source": [
        "probBlk = len(nba[nba['BLK']>=0.8])/len(nba)\n",
        "print('A probabilidade de ser um jogador que é um bom bloqueador na NBA é igual a: ' +str(round(probBlk*100,4))+'%')"
      ]
    },
    {
      "cell_type": "markdown",
      "metadata": {},
      "source": [
        "A probabilidade de ser um bom bloqueador demonstra que nem todos os jogadores da liga podem ser considerados defensores excepcionais, mesmo que joguem numa posição que exige essa habilidade, como pivô. Consideramos que para um jogador ser um bom bloqueador, este deve ter uma média de 0.8 bloqueios ou mais durante uma temporada."
      ]
    },
    {
      "cell_type": "code",
      "execution_count": 11,
      "metadata": {},
      "outputs": [
        {
          "name": "stdout",
          "output_type": "stream",
          "text": [
            "A probabilidade de ser um jogador que é um bom roubador de bola na NBA é igual a: 8.227%\n"
          ]
        }
      ],
      "source": [
        "probStl = len(nba[nba['STL']>=1.2])/len(nba)\n",
        "print('A probabilidade de ser um jogador que é um bom roubador de bola na NBA é igual a: ' +str(round(probStl*100,4))+'%')"
      ]
    },
    {
      "cell_type": "markdown",
      "metadata": {},
      "source": [
        "A probabilidade de ser um bom roubador de bola demonstra que nem todos os jogadores da liga podem ser considerados bons roubadores de bola, o que mostra que essa é uma habilidade difícil de ser masterizada. Consideramos que para um jogador ser um bom roubador de bola, este deve ter uma média de 1.2 roubos de bola ou mais durante uma temporada."
      ]
    },
    {
      "cell_type": "code",
      "execution_count": 12,
      "metadata": {},
      "outputs": [
        {
          "name": "stdout",
          "output_type": "stream",
          "text": [
            "A probabilidade de ser um jogador que é um bom reboteiro ofensivo na NBA é igual a: 4.9645%\n"
          ]
        }
      ],
      "source": [
        "probOrb = len(nba[nba['ORB']>=2.3])/len(nba)\n",
        "print('A probabilidade de ser um jogador que é um bom reboteiro ofensivo na NBA é igual a: ' +str(round(probOrb*100,4))+'%')"
      ]
    },
    {
      "cell_type": "markdown",
      "metadata": {},
      "source": [
        "A probabilidade de ser um bom reboteiro ofensivo demonstra que nem todos os jogadores da liga podem ser considerados bons reboteiros ofensivos, mesmo que joguem numa posição que exige essa habilidade, como pivô ou ala-pivô. Consideramos que para um jogador ser um bom reboteiro ofensivo, este deve ter uma média de 2.3 rebotes ofensivos ou mais durante uma temporada."
      ]
    },
    {
      "cell_type": "code",
      "execution_count": 13,
      "metadata": {},
      "outputs": [
        {
          "name": "stdout",
          "output_type": "stream",
          "text": [
            "A probabilidade de ser um jogador que é um bom arremessador de 3 pontos na NBA é igual a: 7.6596%\n"
          ]
        }
      ],
      "source": [
        "prob3P = len(nba[nba['3P']>=2.5])/len(nba)\n",
        "print('A probabilidade de ser um jogador que é um bom arremessador de 3 pontos na NBA é igual a: ' +str(round(prob3P*100,4))+'%')"
      ]
    },
    {
      "cell_type": "markdown",
      "metadata": {},
      "source": [
        "Arremessar de 3 pontos na liga é muito mais difícil que arremessos de meia distância, bandejas ou enterradas, e os dados mostram isso. Hoje em dia na liga, arremessos de 3 são indispensáveis para um time ter sucesso. Consideramos que para um jogador ser um bom arremessador de 3 pontos, este deve ter uma média de 2.5 arremessos de 3 pontos ou mais em partidas durante uma temporada."
      ]
    },
    {
      "cell_type": "code",
      "execution_count": 14,
      "metadata": {},
      "outputs": [
        {
          "name": "stdout",
          "output_type": "stream",
          "text": [
            "A probabilidade de ser um jogador que é um bom arremessador de 2 pontos na NBA é igual a: 20.4255%\n"
          ]
        }
      ],
      "source": [
        "prob2P = len(nba[nba['2P']>=3.5])/len(nba)\n",
        "print('A probabilidade de ser um jogador que é um bom arremessador de 2 pontos na NBA é igual a: ' +str(round(prob2P*100,4))+'%')"
      ]
    },
    {
      "cell_type": "markdown",
      "metadata": {},
      "source": [
        "Arremessos de 2 pontos na liga são muito mais fáceis que arremessos de 3 pontos, e os dados mostram isso. Considerando um mínimo de 3.5 acertos de 2 pontos, a probabilidade de acerto na liga salta de 7.6% para 20.42%. Esse dado é importante, visto que muitos jogadores focam em aprimorar suas habilidades de 3 pontos e ignoram algumas jogadas de 2 pontos."
      ]
    },
    {
      "cell_type": "code",
      "execution_count": 15,
      "metadata": {},
      "outputs": [
        {
          "name": "stdout",
          "output_type": "stream",
          "text": [
            "A probabilidade de ser um jogador que é um bom reboteiro defensivo na NBA é igual a: 12.9078%\n"
          ]
        }
      ],
      "source": [
        "probDrb = len(nba[nba['DRB']>=4.5])/len(nba)\n",
        "print('A probabilidade de ser um jogador que é um bom reboteiro defensivo na NBA é igual a: ' +str(round(probDrb*100,4))+'%')\n",
        "# A probabilidade de ser um bom reboteiro defensivo demonstra a dificuldade de ser considerado um bom reboteiro defensivo, mesmo que jogando numa posição que exige essa habilidade.\n",
        "# Consideramos que para um jogador ser um bom reboteiro defensivo, este deve ter uma média de 4.5 rebotes defensivos ou mais em partidas durante uma temporada."
      ]
    },
    {
      "cell_type": "markdown",
      "metadata": {},
      "source": [
        "A probabilidade de ser um bom reboteiro defensivo demonstra a dificuldade de ser considerado um bom reboteiro defensivo, mesmo que jogando numa posição que exige essa habilidade. Consideramos que para um jogador ser um bom reboteiro defensivo, este deve ter uma média de 4.5 rebotes defensivos ou mais em partidas durante uma temporada."
      ]
    },
    {
      "cell_type": "code",
      "execution_count": 16,
      "metadata": {},
      "outputs": [
        {
          "name": "stdout",
          "output_type": "stream",
          "text": [
            "A probabilidade de ser um jogador que é um bom reboteiro na NBA é igual a: 12.6241%\n"
          ]
        }
      ],
      "source": [
        "probTrb = len(nba[nba['TRB']>=6.0])/len(nba)\n",
        "print('A probabilidade de ser um jogador que é um bom reboteiro na NBA é igual a: ' +str(round(probTrb*100,4))+'%')\n",
        "# A probabilidade de ser um bom reboteiro demonstra a dificuldade de ser considerado um bom reboteiro, mesmo jogando numa posição que exige essa habilidade.\n",
        "# Consideramos que para um jogador ser um bom reboteiro, este deve ter uma média de 6 rebotes ou mais em partidas durante uma temporada."
      ]
    },
    {
      "cell_type": "markdown",
      "metadata": {
        "id": "P386FkpMWkrn"
      },
      "source": [
        "## Probabilidade da União"
      ]
    },
    {
      "cell_type": "code",
      "execution_count": 17,
      "metadata": {
        "colab": {
          "base_uri": "https://localhost:8080/"
        },
        "id": "BUPCz6PUE6AH",
        "outputId": "d681cdcb-fa38-4976-baaa-3db029f95834"
      },
      "outputs": [
        {
          "name": "stdout",
          "output_type": "stream",
          "text": [
            "A probabilidade de ter bons \"Hustle Stats\" na NBA é igual a: 19.5745%\n"
          ]
        }
      ],
      "source": [
        "probHst = len(nba[((nba['BLK']>=0.8) | (nba['STL']>=1.2) | (nba['ORB']>=2.3))])/len(nba)\n",
        "print('A probabilidade de ter bons \"Hustle Stats\" na NBA é igual a: ' +str(round(probHst*100,4))+'%')"
      ]
    },
    {
      "cell_type": "markdown",
      "metadata": {},
      "source": [
        "A probabilidade de ter bons \"Hustle Stats\" (nome dado aos dados de Roubos (STL), Bloqueios (BLK) e Rebotes Ofensivos (ORB)) leva em consideração estes dados com valores maiores que 0.8, 1.2 e 2.3, respectivamente. Um jogador com tais dados é considerado um jogador fora da curva mesmo com dados considerados gerais (Arremessos de quadra (FG), Assistências (AST) e Rebotes defensivos (DRB)) na média."
      ]
    },
    {
      "cell_type": "code",
      "execution_count": 18,
      "metadata": {},
      "outputs": [
        {
          "name": "stdout",
          "output_type": "stream",
          "text": [
            "A probabilidade de ser um bom jogador ofensivo na NBA é igual a: 21.2766%\n"
          ]
        }
      ],
      "source": [
        "probOff = len(nba[((nba['FG%']>=0.500) & (nba['FGA']>=6.0)) | (nba['AST']>=4.0)])/len(nba)\n",
        "print('A probabilidade de ser um bom jogador ofensivo na NBA é igual a: ' +str(round(probOff*100,4))+'%')"
      ]
    },
    {
      "cell_type": "markdown",
      "metadata": {},
      "source": [
        "A probabilidade de ter uma alta porcentagem de arremessos de quadra ou assistências na NBA mostra o quão ofensivo é um jogador. Equipes podem analisar jogadores que se destacam nesses valores, e os contratam de acordo com a necessidade de agressividade dentro do contexto do time."
      ]
    },
    {
      "cell_type": "code",
      "execution_count": 19,
      "metadata": {},
      "outputs": [
        {
          "name": "stdout",
          "output_type": "stream",
          "text": [
            "A probabilidade de ser um bom jogador defensivo na NBA é igual a: 18.4397%\n"
          ]
        }
      ],
      "source": [
        "probDef = len(nba[(nba['DRB']>=4.5) | (nba['BLK']>=0.8)])/len(nba)\n",
        "print('A probabilidade de ser um bom jogador defensivo na NBA é igual a: ' +str(round(probDef*100,4))+'%')"
      ]
    },
    {
      "cell_type": "markdown",
      "metadata": {},
      "source": [
        "A probabilidade de ser um bom jogador defensivo demonstra a dificuldade que é para um jogador ser considerado um bom jogador defensivo na liga, mesmo jogando numa posição que exige essa habilidade. Consideramos que para um jogador ser um bom jogador defensivo, este deve ter uma média de 4.5 rebotes defensivos ou mais ou 0.8 bloqueios ou mais em partidas durante uma temporada."
      ]
    },
    {
      "cell_type": "code",
      "execution_count": 20,
      "metadata": {},
      "outputs": [
        {
          "name": "stdout",
          "output_type": "stream",
          "text": [
            "A probabilidade de ser um bom arremessador na NBA é igual a: 42.2695%\n"
          ]
        }
      ],
      "source": [
        "probSht = len(nba[(nba['FT%']>=0.850) | (nba['3P%']>=0.375)])/len(nba)\n",
        "print('A probabilidade de ser um bom arremessador na NBA é igual a: ' +str(round(probSht*100,4))+'%')"
      ]
    },
    {
      "cell_type": "markdown",
      "metadata": {},
      "source": [
        "A probabilidade de ser um bom arremessador demonstra a dificuldade existente para um jogador ser considerado um bom arremessador na liga, mesmo jogando numa posição que exige essa habilidade. Consideramos que para um jogador ser um bom arremessador, este deve ter uma média de acertos de 0.850 ou mais em lances livres ou 0.375 ou mais de acertos em arremessos de 3 pontos em partidas durante uma temporada."
      ]
    },
    {
      "cell_type": "code",
      "execution_count": 21,
      "metadata": {},
      "outputs": [
        {
          "name": "stdout",
          "output_type": "stream",
          "text": [
            "A probabilidade de ser um jogador ofensivo dentro do garrafão ou de meia distância na NBA é igual a: 46.9504%\n"
          ]
        }
      ],
      "source": [
        "probPnt = len(nba[(nba['ORB']>=2.3) | (nba['2P%']>=0.540)])/len(nba)\n",
        "print('A probabilidade de ser um jogador ofensivo dentro do garrafão ou de meia distância na NBA é igual a: ' +str(round(probPnt*100,4))+'%')"
      ]
    },
    {
      "cell_type": "markdown",
      "metadata": {},
      "source": [
        "A probabilidade de ser um jogador ofensivo dentro do garrafão ou de meia distância demonstra a dificuldade existente para um jogador ser considerado um bom jogador ofensivo dentro do garrafão ou de meia distância na liga, mesmo jogando numa posição que exige essa habilidade. Consideramos que para um jogador ser um bom jogador ofensivo dentro do garrafão ou de meia distância, este deve ter uma média de 2.3 rebotes ofensivos ou mais ou 0.540 ou mais de acertos em arremessos de 2 pontos em partidas durante uma temporada."
      ]
    },
    {
      "cell_type": "markdown",
      "metadata": {
        "id": "2yL9BcD4WoFJ"
      },
      "source": [
        "## Probabilidade da Intersecção"
      ]
    },
    {
      "cell_type": "code",
      "execution_count": 22,
      "metadata": {
        "colab": {
          "base_uri": "https://localhost:8080/"
        },
        "id": "T5ZqZYCYTyRo",
        "outputId": "6d5dbec7-455a-464a-debd-49b40e275cda"
      },
      "outputs": [
        {
          "name": "stdout",
          "output_type": "stream",
          "text": [
            "A probabilidade de ser excepcional na NBA é igual a: 1.4184%\n"
          ]
        }
      ],
      "source": [
        "prob504090 = len(nba[((nba['FG%']>=0.500) & (nba['3P%']>=0.400) & (nba['FT%']>=0.900))])/len(nba)\n",
        "print('A probabilidade de ser excepcional na NBA é igual a: ' +str(round(prob504090*100,4))+'%')"
      ]
    },
    {
      "cell_type": "markdown",
      "metadata": {},
      "source": [
        "A probabilidade de ser excepcional no decorrer de uma temporada da NBA leva em consideração a intersecção dos valores da porcentagem de arremessos de quadra acertados, a porcentagem de arremessos de 3 pontos acertados e a porcentagem de arremessos livres acertados. Caso esses valores sejam maiores que 50% (0.500), 40% (0.400) e 90% (0.900) respectivamente, um jogador tem sua temporada considerada excepcional. Esse é um dado importante, já que esses jogadores podem ser alvo de outras equipes para eventuais contratações, caso necessitem de jogadores nesse calibre."
      ]
    },
    {
      "cell_type": "code",
      "execution_count": 23,
      "metadata": {},
      "outputs": [
        {
          "name": "stdout",
          "output_type": "stream",
          "text": [
            "A probabilidade de ter uma boa porcentagem de arremessos de quadra na NBA é igual a: 12.0567%\n"
          ]
        }
      ],
      "source": [
        "probHighFG = len(nba[((nba['FG%']>=0.500) & (nba['FGA']>=5.5))])/len(nba)\n",
        "print('A probabilidade de ter uma boa porcentagem de arremessos de quadra na NBA é igual a: ' +str(round(probHighFG*100,4))+'%')"
      ]
    },
    {
      "cell_type": "markdown",
      "metadata": {},
      "source": [
        "A probabilidade de ter boa porcentagem de arremessos de quadra leva em consideração um mínimo de tentativas médias de 5.5, já que com menos tentativas que isso não é válido considerar as tentativas, já que é uma amostra muito pequena. Essa probabilidade mostra que conseguir altas porcentagens de arremessos de quadra na liga não é fácil, e jogadores acima desse mínimo são jogadores que valem a pena serem observados."
      ]
    },
    {
      "cell_type": "code",
      "execution_count": 24,
      "metadata": {},
      "outputs": [
        {
          "name": "stdout",
          "output_type": "stream",
          "text": [
            "A probabilidade de ter bons \"Hustle Stats\" e ter boas médias de cestas na NBA é igual a: 7.5177%\n"
          ]
        }
      ],
      "source": [
        "probHstFG =  len(nba[((nba['FG%']>=0.500) & (nba['FGA']>=5.5)) & ((nba['BLK']>=0.8) | (nba['STL']>=1.2) | (nba['ORB']>=2.3))])/len(nba)\n",
        "print('A probabilidade de ter bons \"Hustle Stats\" e ter boas médias de cestas na NBA é igual a: ' +str(round(probHstFG*100,4))+'%')"
      ]
    },
    {
      "cell_type": "markdown",
      "metadata": {},
      "source": [
        "A probabilidade de ter bons \"Hustle Stats\" e ter boas médias de cestas demonstra a dificuldade existente para um jogador ser considerado um bom jogador em geral na liga. Consideramos que para um jogador ser um bom jogador em geral, este deve ter uma média de 0.500 ou mais de acertos em arremessos de quadra e 5.5 ou mais de arremessos de quadra por partida durante uma temporada e deve possuir bons \"Hustle Stats\", como descrito anteriormente."
      ]
    },
    {
      "cell_type": "code",
      "execution_count": 25,
      "metadata": {},
      "outputs": [
        {
          "name": "stdout",
          "output_type": "stream",
          "text": [
            "A probabilidade de ser titular e ter bons \"Hustle Stats\" na NBA é igual a: 10.6383%\n"
          ]
        }
      ],
      "source": [
        "probHstTit = len(nba[(nba['GS']>=41) & ((nba['BLK']>=0.8) | (nba['STL']>=1.2) | (nba['ORB']>=2.3))])/len(nba) #* len(nba[((nba['BLK']>=0.8) | (nba['STL']>=1.2) | (nba['ORB']>=2.3))])/len(nba)\n",
        "print('A probabilidade de ser titular e ter bons \"Hustle Stats\" na NBA é igual a: ' +str(round(probHstTit*100,4))+'%')"
      ]
    },
    {
      "cell_type": "markdown",
      "metadata": {},
      "source": [
        "A probabilidade de ser titular e ter bons \"Hustle Stats\" demonstra a dificuldade existente para um jogador ser titular e ter boas estatísticas secundárias. Consideramos que para um jogador ser titular e ter boas estatísticas secundárias, este deve ter uma média de 41 partidas ou mais como titular e deve possuir bons \"Hustle Stats\", como descrito anteriormente."
      ]
    },
    {
      "cell_type": "code",
      "execution_count": 26,
      "metadata": {},
      "outputs": [
        {
          "name": "stdout",
          "output_type": "stream",
          "text": [
            "A probabilidade de ser um jogador importante na liga e ter bons \"Hustle Stats\" na NBA é igual a: 14.1844%\n"
          ]
        }
      ],
      "source": [
        "probHstImp = len(nba[(nba['MP']>=24) & ((nba['BLK']>=0.8) | (nba['STL']>=1.2) | (nba['ORB']>=2.3))])/len(nba) #* len(nba[((nba['BLK']>=0.8) | (nba['STL']>=1.2) | (nba['ORB']>=2.3))])/len(nba)\n",
        "print('A probabilidade de ser um jogador importante na liga e ter bons \"Hustle Stats\" na NBA é igual a: ' +str(round(probHstImp*100,4))+'%')"
      ]
    },
    {
      "cell_type": "markdown",
      "metadata": {},
      "source": [
        "A probabilidade de ser um jogador importante na liga e ter bons \"Hustle Stats\" demonstra a dificuldade existente para um jogador ser importante na liga e ainda possuir boas estatísticas secundárias. Consideramos que para um jogador ser importante na liga e ter boas estatísticas secundárias, este deve ter uma média de 24 minutos ou mais por partida e deve possuir bons \"Hustle Stats\", como descrito anteriormente."
      ]
    },
    {
      "cell_type": "code",
      "execution_count": 27,
      "metadata": {},
      "outputs": [
        {
          "name": "stdout",
          "output_type": "stream",
          "text": [
            "A probabilidade de ser titular e ter uma boa porcentagem de arremessos de quadra na NBA é igual a: 6.8085%\n"
          ]
        }
      ],
      "source": [
        "probHighFGTit = len(nba[(nba['GS']>=41) & ((nba['FG%']>=0.500) & (nba['FGA']>=5.5))])/len(nba)\n",
        "print('A probabilidade de ser titular e ter uma boa porcentagem de arremessos de quadra na NBA é igual a: ' +str(round(probHighFGTit*100,4))+'%')"
      ]
    },
    {
      "cell_type": "markdown",
      "metadata": {},
      "source": [
        "A probabilidade de ser titular e ter uma boa porcentagem de arremessos de quadra demonstra a dificuldade existente para um jogador ser um titular focado no ataque. Consideramos que para um jogador ser um titular focado no ataque, este deve ter uma média de 41 jogos ou mais por temporada e deve possuir uma boa porcentagem de arremessos de quadra, como descrito anteriormente."
      ]
    },
    {
      "cell_type": "code",
      "execution_count": 28,
      "metadata": {},
      "outputs": [
        {
          "name": "stdout",
          "output_type": "stream",
          "text": [
            "A probabilidade de ser um jogador importante na liga e ter boas médias de cestas na NBA é igual a: 9.2199%\n"
          ]
        }
      ],
      "source": [
        "probHighFGImp = len(nba[(nba['MP']>=24) & ((nba['FG%']>=0.500) & (nba['FGA']>=5.5))])/len(nba)\n",
        "print('A probabilidade de ser um jogador importante na liga e ter boas médias de cestas na NBA é igual a: ' +str(round(probHighFGImp*100,4))+'%')"
      ]
    },
    {
      "cell_type": "markdown",
      "metadata": {},
      "source": [
        "A probabilidade de ser um jogador importante na liga e ter boas médias de cestas demonstra a dificuldade existente para um jogador ser um jogador importante e focado no ataque. Consideramos que para um jogador ser um jogador importante e focado no ataque, este deve ter uma média de 24 minutos ou mais por partida e deve possuir uma boa porcentagem de arremessos de quadra, como descrito anteriormente."
      ]
    },
    {
      "cell_type": "code",
      "execution_count": 29,
      "metadata": {},
      "outputs": [
        {
          "name": "stdout",
          "output_type": "stream",
          "text": [
            "A probabilidade de ser titular e ser um bom jogador defensivo na NBA é igual a: 10.4965%\n"
          ]
        }
      ],
      "source": [
        "probDefTit = len(nba[(nba['GS']>=41) & ((nba['DRB']>=4.5) | (nba['BLK']>=0.8))])/len(nba)\n",
        "print('A probabilidade de ser titular e ser um bom jogador defensivo na NBA é igual a: ' +str(round(probDefTit*100,4))+'%')"
      ]
    },
    {
      "cell_type": "code",
      "execution_count": 30,
      "metadata": {},
      "outputs": [
        {
          "name": "stdout",
          "output_type": "stream",
          "text": [
            "A probabilidade de ter bons \"Hustle Stats\" e ser um bom bloqueador na NBA é igual a: 11.0638%\n"
          ]
        }
      ],
      "source": [
        "probHstBlk = len(nba[((nba['BLK']>=0.8) | (nba['STL']>=1.2) | (nba['ORB']>=2.3)) & (nba['BLK']>=0.8)])/len(nba)\n",
        "print('A probabilidade de ter bons \"Hustle Stats\" e ser um bom bloqueador na NBA é igual a: ' +str(round(probHstBlk*100,4))+'%')"
      ]
    },
    {
      "cell_type": "markdown",
      "metadata": {
        "id": "ZeYshDCBWxmB"
      },
      "source": [
        "## Probabilidade da Diferença/Complemento"
      ]
    },
    {
      "cell_type": "code",
      "execution_count": 31,
      "metadata": {},
      "outputs": [
        {
          "name": "stdout",
          "output_type": "stream",
          "text": [
            "A probabilidade de ter boas médias de cestas e não ter bons \"Hustle Stats\" na NBA é igual a: 11.1503%\n"
          ]
        }
      ],
      "source": [
        "probFGnotHst = probHighFG - (probHighFG * probHstFG)\n",
        "print('A probabilidade de ter boas médias de cestas e não ter bons \"Hustle Stats\" na NBA é igual a: ' +str(round(probFGnotHst*100,4))+'%')"
      ]
    },
    {
      "cell_type": "markdown",
      "metadata": {},
      "source": [
        "A probabilidade de ter boas médias de cestas e não ter bons \"Hustle Stats\" demonstra que ser um jogador que tem boas médias de cestas e não tem bons \"Hustle Stats\" na liga pode ser difícil. Consideramos que para um jogador ter boas médias de cestas e não ter bons \"Hustle Stats\", este deve ter uma média de 5.5 tentativas de arremessos de quadra ou mais e não ter bons \"Hustle Stats\" (descritos anteriormente) em partidas durante uma temporada."
      ]
    },
    {
      "cell_type": "code",
      "execution_count": 32,
      "metadata": {},
      "outputs": [
        {
          "name": "stdout",
          "output_type": "stream",
          "text": [
            "A probabilidade de ter boas médias de cestas e não ser um bom bloqueador na NBA é igual a: 6.5248%\n"
          ]
        }
      ],
      "source": [
        "probFGnotBlk = len(nba[(nba['FG%']>=0.500) & (nba['FGA']>=5.5) & (nba['BLK']<0.8)])/len(nba)\n",
        "print('A probabilidade de ter boas médias de cestas e não ser um bom bloqueador na NBA é igual a: ' +str(round(probFGnotBlk*100,4))+'%')"
      ]
    },
    {
      "cell_type": "markdown",
      "metadata": {},
      "source": [
        "A probabilidade de ter boas médias de cestas e não ser um bom bloqueador demonstra que ser um jogador que tem boas médias de cestas e que não é um bom bloqueador na liga pode ser difícil. Consideramos que para um jogador ter boas médias de cestas e não ser um bom bloqueador, este deve ter uma média de 5.5 tentativas de arremessos de quadra ou mais e não ter uma média de 0.8 bloqueios ou mais em partidas durante uma temporada."
      ]
    },
    {
      "cell_type": "code",
      "execution_count": 33,
      "metadata": {},
      "outputs": [
        {
          "name": "stdout",
          "output_type": "stream",
          "text": [
            "A probabilidade de ter boas médias de cestas e não ser um bom roubador de bola na NBA é igual a: 10.3546%\n"
          ]
        }
      ],
      "source": [
        "probFGnotStl = len(nba[(nba['FG%']>=0.500) & (nba['FGA']>=5.5) & (nba['STL']<1.2)])/len(nba)\n",
        "print('A probabilidade de ter boas médias de cestas e não ser um bom roubador de bola na NBA é igual a: ' +str(round(probFGnotStl*100,4))+'%')"
      ]
    },
    {
      "cell_type": "markdown",
      "metadata": {},
      "source": [
        "A probabilidade de ter boas médias de cestas e não ser um bom roubador de bola demonstra que ser um jogador que tem boas médias de cestas e que não é um bom roubador de bola na liga pode ser difícil. Consideramos que para um jogador ter boas médias de cestas e não ser um bom roubador de bola, este deve ter uma média de 5.5 tentativas de arremessos de quadra ou mais e não ter uma média de 1.2 roubos de bola ou mais em partidas durante uma temporada."
      ]
    },
    {
      "cell_type": "code",
      "execution_count": 34,
      "metadata": {},
      "outputs": [
        {
          "name": "stdout",
          "output_type": "stream",
          "text": [
            "A probabilidade de ter boas médias de cestas e não ser um bom reboteiro ofensivo na NBA é igual a: 8.3688%\n"
          ]
        }
      ],
      "source": [
        "probFGnotOrb = len(nba[(nba['FG%']>=0.500) & (nba['FGA']>=5.5) & (nba['ORB']<2.3)])/len(nba)\n",
        "print('A probabilidade de ter boas médias de cestas e não ser um bom reboteiro ofensivo na NBA é igual a: ' +str(round(probFGnotOrb*100,4))+'%')"
      ]
    },
    {
      "cell_type": "markdown",
      "metadata": {},
      "source": [
        "A probabilidade de ter boas médias de cestas e não ser um bom reboteiro ofensivo demonstra que ser um jogador que tem boas médias de cestas e que não é um bom reboteiro ofensivo na liga pode ser difícil. Consideramos que para um jogador ter boas médias de cestas e não ser um bom reboteiro ofensivo, este deve ter uma média de 5.5 tentativas de arremessos de quadra ou mais e não ter uma média de 2.3 rebotes ofensivos ou mais em partidas durante uma temporada."
      ]
    },
    {
      "cell_type": "code",
      "execution_count": 35,
      "metadata": {},
      "outputs": [
        {
          "name": "stdout",
          "output_type": "stream",
          "text": [
            "A probabilidade de ser titular e não ter boas médias de cestas na NBA é igual a: 0.5674%\n"
          ]
        }
      ],
      "source": [
        "probTitnotFG = len(nba[((nba['FG%']<0.500) & (nba['FGA']<5.5)) & (nba['GS']>=41)])/len(nba)\n",
        "print('A probabilidade de ser titular e não ter boas médias de cestas na NBA é igual a: ' +str(round(probTitnotFG*100,4))+'%')"
      ]
    },
    {
      "cell_type": "markdown",
      "metadata": {},
      "source": [
        "A probabilidade de ser titular e não ter boas médias de cestas demonstra que ser um jogador que é titular e que não tem boas médias de cestas na liga pode ser difícil. Consideramos que para um jogador ser titular e não ter boas médias de cestas, este deve ter uma média de 5.5 tentativas de arremessos de quadra ou menos e não ter jogado metade ou mais da metade das partidas durante uma temporada como titular."
      ]
    },
    {
      "cell_type": "code",
      "execution_count": 36,
      "metadata": {},
      "outputs": [
        {
          "name": "stdout",
          "output_type": "stream",
          "text": [
            "A probabilidade de ter boas médias de cestas e não ser titular na NBA é igual a: 5.2482%\n"
          ]
        }
      ],
      "source": [
        "probFGnotTit = len(nba[(nba['FG%']>=0.500) & (nba['FGA']>=5.5) & (nba['GS']<41)])/len(nba)\n",
        "print('A probabilidade de ter boas médias de cestas e não ser titular na NBA é igual a: ' +str(round(probFGnotTit*100,4))+'%')"
      ]
    },
    {
      "cell_type": "markdown",
      "metadata": {},
      "source": [
        "A probabilidade de ter boas médias de cestas e não ser titular demonstra que ser um jogador que tem boas médias de cestas e que não é titular na liga pode ser difícil. Consideramos que para um jogador ter boas médias de cestas e não ser titular, este deve ter uma média de 5.5 tentativas de arremessos de quadra ou mais e não ter jogado metade ou mais da metade das partidas durante uma temporada como titular."
      ]
    },
    {
      "cell_type": "code",
      "execution_count": 37,
      "metadata": {},
      "outputs": [
        {
          "name": "stdout",
          "output_type": "stream",
          "text": [
            "A probabilidade de não ter boas médias de cestas e de ter bons \"Hustle Stats\" na NBA é igual a: 17.2144%\n"
          ]
        }
      ],
      "source": [
        "probHstnotFG = probHst - (probHighFG * probHst)\n",
        "print('A probabilidade de não ter boas médias de cestas e de ter bons \"Hustle Stats\" na NBA é igual a: ' +str(round(probHstnotFG*100,4))+'%')"
      ]
    },
    {
      "cell_type": "markdown",
      "metadata": {},
      "source": [
        "A probabilidade de não ter boas médias de cestas e de ter bons \"Hustle Stats\" demonstra que ser um jogador que não tem boas médias de cestas e que tem bons \"Hustle Stats\" na liga pode ser difícil. Consideramos que para um jogador não ter boas médias de cestas e ter bons \"Hustle Stats\", este deve ter uma média de 5.5 tentativas de arremessos de quadra ou menos e ter bons \"Hustle Stats\" (descritos anteriormente) em partidas durante uma temporada."
      ]
    },
    {
      "cell_type": "markdown",
      "metadata": {},
      "source": [
        "## Probabilidade Condicional/Teorema de Bayes"
      ]
    },
    {
      "cell_type": "code",
      "execution_count": 38,
      "metadata": {},
      "outputs": [
        {
          "name": "stdout",
          "output_type": "stream",
          "text": [
            "A probabilidade de ter bons \"Hustle Stats\" dado que tem boas médias de cestas na NBA é igual a: 62.3529%\n"
          ]
        }
      ],
      "source": [
        "probHstgivenFG = probHstFG / probHighFG\n",
        "print('A probabilidade de ter bons \"Hustle Stats\" dado que tem boas médias de cestas na NBA é igual a: ' +str(round(probHstgivenFG*100,4))+'%')"
      ]
    },
    {
      "cell_type": "markdown",
      "metadata": {},
      "source": [
        "A probabilidade de ter bons \"Hustle Stats\" dado que tem boas médias de cestas demonstra que ser um jogador que tem boas médias de cestas e que tem bons \"Hustle Stats\" na liga pode ser difícil."
      ]
    },
    {
      "cell_type": "code",
      "execution_count": 39,
      "metadata": {},
      "outputs": [
        {
          "name": "stdout",
          "output_type": "stream",
          "text": [
            "A probabilidade de ser um jogador com boas médias de cestas dado que é um jogador importante na NBA é igual a: 28.2609%\n"
          ]
        }
      ],
      "source": [
        "probHighFGTitgivenImp = probHighFGImp / probImp\n",
        "print('A probabilidade de ser um jogador com boas médias de cestas dado que é um jogador importante na NBA é igual a: ' +str(round(probHighFGTitgivenImp*100,4))+'%')"
      ]
    },
    {
      "cell_type": "markdown",
      "metadata": {},
      "source": [
        "A probabilidade de ser um bom jogador ofensivo dado que é um jogador titular demonstra que ser um jogador que é um jogador titular e que tem boas médias de cestas na liga pode ser difícil."
      ]
    },
    {
      "cell_type": "code",
      "execution_count": 40,
      "metadata": {},
      "outputs": [
        {
          "name": "stdout",
          "output_type": "stream",
          "text": [
            "A probabilidade de ser um jogador com boas médias de cestas dado que é um titular na NBA é igual a: 30.1887%\n"
          ]
        }
      ],
      "source": [
        "probHighFGTitgivenTit = probHighFGTit / probTit\n",
        "print('A probabilidade de ser um jogador com boas médias de cestas dado que é um titular na NBA é igual a: ' +str(round(probHighFGTitgivenTit*100,4))+'%')"
      ]
    },
    {
      "cell_type": "markdown",
      "metadata": {},
      "source": [
        "A probabilidade de ser um bom jogador ofensivo dado que é um titular demonstra que ser um jogador que é um titular e que tem boas médias de cestas na liga pode ser difícil."
      ]
    },
    {
      "cell_type": "code",
      "execution_count": 41,
      "metadata": {},
      "outputs": [
        {
          "name": "stdout",
          "output_type": "stream",
          "text": [
            "A probabilidade de ser um jogador com bons \"Hustle Stats\" dado que é um titular na NBA é igual a: 47.1698%\n"
          ]
        }
      ],
      "source": [
        "probHstgivenTit = probHstTit / probTit\n",
        "print('A probabilidade de ser um jogador com bons \"Hustle Stats\" dado que é um titular na NBA é igual a: ' +str(round(probHstgivenTit*100,4))+'%')"
      ]
    },
    {
      "cell_type": "code",
      "execution_count": 42,
      "metadata": {},
      "outputs": [
        {
          "name": "stdout",
          "output_type": "stream",
          "text": [
            "A probabilidade de ser um jogador defensivo dado que é um titular na NBA é igual a: 46.5409%\n"
          ]
        }
      ],
      "source": [
        "probDefgivenTit = probDefTit / probTit\n",
        "print('A probabilidade de ser um jogador defensivo dado que é um titular na NBA é igual a: ' +str(round(probDefgivenTit*100,4))+'%')"
      ]
    },
    {
      "cell_type": "code",
      "execution_count": 43,
      "metadata": {},
      "outputs": [
        {
          "name": "stdout",
          "output_type": "stream",
          "text": [
            "A probabilidade de ser um bom reboteiro ofensivo dado que tem bons \"Hustle Stats\" na NBA é igual a: 25.3623%\n"
          ]
        }
      ],
      "source": [
        "probOrbgivenHst = probOrb/probHst\n",
        "print('A probabilidade de ser um bom reboteiro ofensivo dado que tem bons \"Hustle Stats\" na NBA é igual a: ' +str(round(probOrbgivenHst*100,4))+'%')"
      ]
    },
    {
      "cell_type": "code",
      "execution_count": 44,
      "metadata": {},
      "outputs": [
        {
          "name": "stdout",
          "output_type": "stream",
          "text": [
            "A probabilidade de ser um bom bloqueador dado que tem bons \"Hustle Stats\" na NBA é igual a: 56.5217%\n"
          ]
        }
      ],
      "source": [
        "probBlkgivenHst = probBlk/probHst\n",
        "print('A probabilidade de ser um bom bloqueador dado que tem bons \"Hustle Stats\" na NBA é igual a: ' +str(round(probBlkgivenHst*100,4))+'%')"
      ]
    },
    {
      "cell_type": "code",
      "execution_count": 45,
      "metadata": {},
      "outputs": [
        {
          "name": "stdout",
          "output_type": "stream",
          "text": [
            "A probabilidade de ser um bom roubador de bola dado que tem bons \"Hustle Stats\" na NBA é igual a: 42.029%\n"
          ]
        }
      ],
      "source": [
        "probStlgivenHst = probStl/probHst\n",
        "print('A probabilidade de ser um bom roubador de bola dado que tem bons \"Hustle Stats\" na NBA é igual a: ' +str(round(probStlgivenHst*100,4))+'%')"
      ]
    },
    {
      "cell_type": "markdown",
      "metadata": {},
      "source": [
        "## Variáveis Aleatórias"
      ]
    },
    {
      "cell_type": "code",
      "execution_count": 46,
      "metadata": {},
      "outputs": [
        {
          "data": {
            "text/plain": [
              "1.0    29\n",
              "1.3    26\n",
              "1.1    24\n",
              "2.1    21\n",
              "2.0    20\n",
              "       ..\n",
              "6.6     1\n",
              "5.3     1\n",
              "5.9     1\n",
              "7.1     1\n",
              "4.8     1\n",
              "Name: HustleStatsTotal, Length: 97, dtype: int64"
            ]
          },
          "execution_count": 46,
          "metadata": {},
          "output_type": "execute_result"
        }
      ],
      "source": [
        "nba['HustleStatsTotal'] = nba['ORB'] + nba['STL'] + nba['BLK']\n",
        "nba['HustleStatsTotal'].value_counts()"
      ]
    },
    {
      "cell_type": "code",
      "execution_count": 47,
      "metadata": {},
      "outputs": [
        {
          "data": {
            "text/plain": [
              "0.0    13\n",
              "0.1     4\n",
              "0.2     6\n",
              "0.3     7\n",
              "0.3     4\n",
              "       ..\n",
              "5.8     2\n",
              "5.9     1\n",
              "6.6     1\n",
              "7.1     1\n",
              "7.2     1\n",
              "Name: HustleStatsTotal, Length: 97, dtype: int64"
            ]
          },
          "execution_count": 47,
          "metadata": {},
          "output_type": "execute_result"
        }
      ],
      "source": [
        "nba['HustleStatsTotal'].value_counts(sort=False).sort_index()"
      ]
    },
    {
      "cell_type": "code",
      "execution_count": 48,
      "metadata": {},
      "outputs": [
        {
          "name": "stdout",
          "output_type": "stream",
          "text": [
            "0.0    0.019146\n",
            "0.1    0.005891\n",
            "0.2    0.008837\n",
            "0.3    0.010309\n",
            "0.3    0.005891\n",
            "         ...   \n",
            "5.8    0.002946\n",
            "5.9    0.001473\n",
            "6.6    0.001473\n",
            "7.1    0.001473\n",
            "7.2    0.001473\n",
            "Name: HustleStatsTotal, Length: 97, dtype: float64\n"
          ]
        }
      ],
      "source": [
        "hstfp = nba['HustleStatsTotal'].value_counts(sort=False).sort_index()/nba['HustleStatsTotal'].count()\n",
        "print(hstfp)"
      ]
    },
    {
      "cell_type": "code",
      "execution_count": 49,
      "metadata": {},
      "outputs": [
        {
          "data": {
            "text/plain": [
              "0.0    0.019146\n",
              "0.1    0.025037\n",
              "0.2    0.033873\n",
              "0.3    0.044183\n",
              "0.3    0.050074\n",
              "         ...   \n",
              "5.8    0.994109\n",
              "5.9    0.995582\n",
              "6.6    0.997054\n",
              "7.1    0.998527\n",
              "7.2    1.000000\n",
              "Name: HustleStatsTotal, Length: 97, dtype: float64"
            ]
          },
          "execution_count": 49,
          "metadata": {},
          "output_type": "execute_result"
        }
      ],
      "source": [
        "hstfp.cumsum()"
      ]
    },
    {
      "cell_type": "code",
      "execution_count": 50,
      "metadata": {},
      "outputs": [
        {
          "data": {
            "text/plain": [
              "2.3    28\n",
              "2.7    25\n",
              "2.2    25\n",
              "3.0    24\n",
              "2.5    23\n",
              "       ..\n",
              "0.1     1\n",
              "7.0     1\n",
              "5.7     1\n",
              "6.9     1\n",
              "6.8     1\n",
              "Name: BadStatsAvg, Length: 98, dtype: int64"
            ]
          },
          "execution_count": 50,
          "metadata": {},
          "output_type": "execute_result"
        }
      ],
      "source": [
        "nba['BadStatsAvg'] = nba['TOV'] + nba['PF']\n",
        "nba['BadStatsAvg'].value_counts()"
      ]
    },
    {
      "cell_type": "code",
      "execution_count": 51,
      "metadata": {},
      "outputs": [
        {
          "data": {
            "text/plain": [
              "0.0    10\n",
              "0.1     1\n",
              "0.2     4\n",
              "0.3     3\n",
              "0.3     2\n",
              "       ..\n",
              "6.5     2\n",
              "6.8     1\n",
              "6.9     1\n",
              "7.0     1\n",
              "9.0     1\n",
              "Name: BadStatsAvg, Length: 98, dtype: int64"
            ]
          },
          "execution_count": 51,
          "metadata": {},
          "output_type": "execute_result"
        }
      ],
      "source": [
        "nba['BadStatsAvg'].value_counts(sort=False).sort_index()"
      ]
    },
    {
      "cell_type": "code",
      "execution_count": 52,
      "metadata": {},
      "outputs": [
        {
          "name": "stdout",
          "output_type": "stream",
          "text": [
            "0.0    0.014728\n",
            "0.1    0.001473\n",
            "0.2    0.005891\n",
            "0.3    0.004418\n",
            "0.3    0.002946\n",
            "         ...   \n",
            "6.5    0.002946\n",
            "6.8    0.001473\n",
            "6.9    0.001473\n",
            "7.0    0.001473\n",
            "9.0    0.001473\n",
            "Name: BadStatsAvg, Length: 98, dtype: float64\n"
          ]
        }
      ],
      "source": [
        "badfp = nba['BadStatsAvg'].value_counts(sort=False).sort_index()/nba['BadStatsAvg'].count()\n",
        "print(badfp)"
      ]
    },
    {
      "cell_type": "code",
      "execution_count": 53,
      "metadata": {},
      "outputs": [
        {
          "data": {
            "text/plain": [
              "0.0    0.014728\n",
              "0.1    0.016200\n",
              "0.2    0.022091\n",
              "0.3    0.026510\n",
              "0.3    0.029455\n",
              "         ...   \n",
              "6.5    0.994109\n",
              "6.8    0.995582\n",
              "6.9    0.997054\n",
              "7.0    0.998527\n",
              "9.0    1.000000\n",
              "Name: BadStatsAvg, Length: 98, dtype: float64"
            ]
          },
          "execution_count": 53,
          "metadata": {},
          "output_type": "execute_result"
        }
      ],
      "source": [
        "badfp.cumsum()"
      ]
    },
    {
      "cell_type": "code",
      "execution_count": 54,
      "metadata": {},
      "outputs": [
        {
          "data": {
            "text/plain": [
              "0.000000    172\n",
              "1.000000    121\n",
              "0.142857     10\n",
              "0.125000      7\n",
              "0.166667      7\n",
              "           ... \n",
              "0.021739      1\n",
              "0.095238      1\n",
              "0.970149      1\n",
              "0.089286      1\n",
              "0.253731      1\n",
              "Name: PctGamesStarted, Length: 276, dtype: int64"
            ]
          },
          "execution_count": 54,
          "metadata": {},
          "output_type": "execute_result"
        }
      ],
      "source": [
        "nba['PctGamesStarted'] = nba['GS'] / nba['G']\n",
        "nba['PctGamesStarted'].value_counts()"
      ]
    },
    {
      "cell_type": "code",
      "execution_count": 55,
      "metadata": {},
      "outputs": [
        {
          "data": {
            "text/plain": [
              "0.000000    172\n",
              "0.012821      1\n",
              "0.013333      1\n",
              "0.015385      1\n",
              "0.017241      1\n",
              "           ... \n",
              "0.985075      1\n",
              "0.986111      1\n",
              "0.986486      2\n",
              "0.987013      1\n",
              "1.000000    121\n",
              "Name: PctGamesStarted, Length: 276, dtype: int64"
            ]
          },
          "execution_count": 55,
          "metadata": {},
          "output_type": "execute_result"
        }
      ],
      "source": [
        "nba['PctGamesStarted'].value_counts(sort=False).sort_index()"
      ]
    },
    {
      "cell_type": "code",
      "execution_count": 56,
      "metadata": {},
      "outputs": [
        {
          "name": "stdout",
          "output_type": "stream",
          "text": [
            "0.000000    0.253314\n",
            "0.012821    0.001473\n",
            "0.013333    0.001473\n",
            "0.015385    0.001473\n",
            "0.017241    0.001473\n",
            "              ...   \n",
            "0.985075    0.001473\n",
            "0.986111    0.001473\n",
            "0.986486    0.002946\n",
            "0.987013    0.001473\n",
            "1.000000    0.178203\n",
            "Name: PctGamesStarted, Length: 276, dtype: float64\n"
          ]
        }
      ],
      "source": [
        "pctfp = nba['PctGamesStarted'].value_counts(sort=False).sort_index()/nba['PctGamesStarted'].count()\n",
        "print(pctfp)"
      ]
    },
    {
      "cell_type": "code",
      "execution_count": 57,
      "metadata": {},
      "outputs": [
        {
          "data": {
            "text/plain": [
              "0.000000    0.253314\n",
              "0.012821    0.254786\n",
              "0.013333    0.256259\n",
              "0.015385    0.257732\n",
              "0.017241    0.259205\n",
              "              ...   \n",
              "0.985075    0.815906\n",
              "0.986111    0.817378\n",
              "0.986486    0.820324\n",
              "0.987013    0.821797\n",
              "1.000000    1.000000\n",
              "Name: PctGamesStarted, Length: 276, dtype: float64"
            ]
          },
          "execution_count": 57,
          "metadata": {},
          "output_type": "execute_result"
        }
      ],
      "source": [
        "pctfp.cumsum()"
      ]
    },
    {
      "cell_type": "code",
      "execution_count": 58,
      "metadata": {},
      "outputs": [
        {
          "data": {
            "text/html": [
              "<div>\n",
              "<style scoped>\n",
              "    .dataframe tbody tr th:only-of-type {\n",
              "        vertical-align: middle;\n",
              "    }\n",
              "\n",
              "    .dataframe tbody tr th {\n",
              "        vertical-align: top;\n",
              "    }\n",
              "\n",
              "    .dataframe thead th {\n",
              "        text-align: right;\n",
              "    }\n",
              "</style>\n",
              "<table border=\"1\" class=\"dataframe\">\n",
              "  <thead>\n",
              "    <tr style=\"text-align: right;\">\n",
              "      <th></th>\n",
              "      <th>Player</th>\n",
              "      <th>Pos</th>\n",
              "      <th>Age</th>\n",
              "      <th>Tm</th>\n",
              "      <th>G</th>\n",
              "      <th>GS</th>\n",
              "      <th>MP</th>\n",
              "      <th>FG</th>\n",
              "      <th>FGA</th>\n",
              "      <th>FG%</th>\n",
              "      <th>...</th>\n",
              "      <th>TRB</th>\n",
              "      <th>AST</th>\n",
              "      <th>STL</th>\n",
              "      <th>BLK</th>\n",
              "      <th>TOV</th>\n",
              "      <th>PF</th>\n",
              "      <th>PTS</th>\n",
              "      <th>HustleStatsTotal</th>\n",
              "      <th>BadStatsAvg</th>\n",
              "      <th>PctGamesStarted</th>\n",
              "    </tr>\n",
              "  </thead>\n",
              "  <tbody>\n",
              "    <tr>\n",
              "      <th>0</th>\n",
              "      <td>Precious Achiuwa</td>\n",
              "      <td>C</td>\n",
              "      <td>23.0</td>\n",
              "      <td>TOR</td>\n",
              "      <td>55.0</td>\n",
              "      <td>12.0</td>\n",
              "      <td>20.7</td>\n",
              "      <td>3.6</td>\n",
              "      <td>7.3</td>\n",
              "      <td>0.485</td>\n",
              "      <td>...</td>\n",
              "      <td>6.0</td>\n",
              "      <td>0.9</td>\n",
              "      <td>0.6</td>\n",
              "      <td>0.5</td>\n",
              "      <td>1.1</td>\n",
              "      <td>1.9</td>\n",
              "      <td>9.2</td>\n",
              "      <td>2.9</td>\n",
              "      <td>3.0</td>\n",
              "      <td>0.218182</td>\n",
              "    </tr>\n",
              "    <tr>\n",
              "      <th>1</th>\n",
              "      <td>Steven Adams</td>\n",
              "      <td>C</td>\n",
              "      <td>29.0</td>\n",
              "      <td>MEM</td>\n",
              "      <td>42.0</td>\n",
              "      <td>42.0</td>\n",
              "      <td>27.0</td>\n",
              "      <td>3.7</td>\n",
              "      <td>6.3</td>\n",
              "      <td>0.597</td>\n",
              "      <td>...</td>\n",
              "      <td>11.5</td>\n",
              "      <td>2.3</td>\n",
              "      <td>0.9</td>\n",
              "      <td>1.1</td>\n",
              "      <td>1.9</td>\n",
              "      <td>2.3</td>\n",
              "      <td>8.6</td>\n",
              "      <td>7.1</td>\n",
              "      <td>4.2</td>\n",
              "      <td>1.000000</td>\n",
              "    </tr>\n",
              "    <tr>\n",
              "      <th>2</th>\n",
              "      <td>Bam Adebayo</td>\n",
              "      <td>C</td>\n",
              "      <td>25.0</td>\n",
              "      <td>MIA</td>\n",
              "      <td>75.0</td>\n",
              "      <td>75.0</td>\n",
              "      <td>34.6</td>\n",
              "      <td>8.0</td>\n",
              "      <td>14.9</td>\n",
              "      <td>0.540</td>\n",
              "      <td>...</td>\n",
              "      <td>9.2</td>\n",
              "      <td>3.2</td>\n",
              "      <td>1.2</td>\n",
              "      <td>0.8</td>\n",
              "      <td>2.5</td>\n",
              "      <td>2.8</td>\n",
              "      <td>20.4</td>\n",
              "      <td>4.5</td>\n",
              "      <td>5.3</td>\n",
              "      <td>1.000000</td>\n",
              "    </tr>\n",
              "    <tr>\n",
              "      <th>3</th>\n",
              "      <td>Ochai Agbaji</td>\n",
              "      <td>SG</td>\n",
              "      <td>22.0</td>\n",
              "      <td>UTA</td>\n",
              "      <td>59.0</td>\n",
              "      <td>22.0</td>\n",
              "      <td>20.5</td>\n",
              "      <td>2.8</td>\n",
              "      <td>6.5</td>\n",
              "      <td>0.427</td>\n",
              "      <td>...</td>\n",
              "      <td>2.1</td>\n",
              "      <td>1.1</td>\n",
              "      <td>0.3</td>\n",
              "      <td>0.3</td>\n",
              "      <td>0.7</td>\n",
              "      <td>1.7</td>\n",
              "      <td>7.9</td>\n",
              "      <td>1.3</td>\n",
              "      <td>2.4</td>\n",
              "      <td>0.372881</td>\n",
              "    </tr>\n",
              "    <tr>\n",
              "      <th>4</th>\n",
              "      <td>Santi Aldama</td>\n",
              "      <td>PF</td>\n",
              "      <td>22.0</td>\n",
              "      <td>MEM</td>\n",
              "      <td>77.0</td>\n",
              "      <td>20.0</td>\n",
              "      <td>21.8</td>\n",
              "      <td>3.2</td>\n",
              "      <td>6.8</td>\n",
              "      <td>0.470</td>\n",
              "      <td>...</td>\n",
              "      <td>4.8</td>\n",
              "      <td>1.3</td>\n",
              "      <td>0.6</td>\n",
              "      <td>0.6</td>\n",
              "      <td>0.8</td>\n",
              "      <td>1.9</td>\n",
              "      <td>9.0</td>\n",
              "      <td>2.3</td>\n",
              "      <td>2.7</td>\n",
              "      <td>0.259740</td>\n",
              "    </tr>\n",
              "    <tr>\n",
              "      <th>5</th>\n",
              "      <td>Nickeil Alexander-Walker</td>\n",
              "      <td>SG</td>\n",
              "      <td>24.0</td>\n",
              "      <td>TOT</td>\n",
              "      <td>59.0</td>\n",
              "      <td>3.0</td>\n",
              "      <td>15.0</td>\n",
              "      <td>2.2</td>\n",
              "      <td>5.0</td>\n",
              "      <td>0.444</td>\n",
              "      <td>...</td>\n",
              "      <td>1.7</td>\n",
              "      <td>1.8</td>\n",
              "      <td>0.5</td>\n",
              "      <td>0.4</td>\n",
              "      <td>0.9</td>\n",
              "      <td>1.5</td>\n",
              "      <td>6.2</td>\n",
              "      <td>1.2</td>\n",
              "      <td>2.4</td>\n",
              "      <td>0.050847</td>\n",
              "    </tr>\n",
              "    <tr>\n",
              "      <th>6</th>\n",
              "      <td>Nickeil Alexander-Walker</td>\n",
              "      <td>SG</td>\n",
              "      <td>24.0</td>\n",
              "      <td>UTA</td>\n",
              "      <td>36.0</td>\n",
              "      <td>3.0</td>\n",
              "      <td>14.7</td>\n",
              "      <td>2.3</td>\n",
              "      <td>4.7</td>\n",
              "      <td>0.488</td>\n",
              "      <td>...</td>\n",
              "      <td>1.6</td>\n",
              "      <td>2.1</td>\n",
              "      <td>0.7</td>\n",
              "      <td>0.4</td>\n",
              "      <td>1.3</td>\n",
              "      <td>1.6</td>\n",
              "      <td>6.3</td>\n",
              "      <td>1.3</td>\n",
              "      <td>2.9</td>\n",
              "      <td>0.083333</td>\n",
              "    </tr>\n",
              "    <tr>\n",
              "      <th>7</th>\n",
              "      <td>Nickeil Alexander-Walker</td>\n",
              "      <td>SG</td>\n",
              "      <td>24.0</td>\n",
              "      <td>MIN</td>\n",
              "      <td>23.0</td>\n",
              "      <td>0.0</td>\n",
              "      <td>15.5</td>\n",
              "      <td>2.1</td>\n",
              "      <td>5.4</td>\n",
              "      <td>0.384</td>\n",
              "      <td>...</td>\n",
              "      <td>1.8</td>\n",
              "      <td>1.4</td>\n",
              "      <td>0.3</td>\n",
              "      <td>0.3</td>\n",
              "      <td>0.4</td>\n",
              "      <td>1.3</td>\n",
              "      <td>5.9</td>\n",
              "      <td>0.9</td>\n",
              "      <td>1.7</td>\n",
              "      <td>0.000000</td>\n",
              "    </tr>\n",
              "    <tr>\n",
              "      <th>8</th>\n",
              "      <td>Grayson Allen</td>\n",
              "      <td>SG</td>\n",
              "      <td>27.0</td>\n",
              "      <td>MIL</td>\n",
              "      <td>72.0</td>\n",
              "      <td>70.0</td>\n",
              "      <td>27.4</td>\n",
              "      <td>3.4</td>\n",
              "      <td>7.7</td>\n",
              "      <td>0.440</td>\n",
              "      <td>...</td>\n",
              "      <td>3.3</td>\n",
              "      <td>2.3</td>\n",
              "      <td>0.9</td>\n",
              "      <td>0.2</td>\n",
              "      <td>1.0</td>\n",
              "      <td>1.6</td>\n",
              "      <td>10.4</td>\n",
              "      <td>1.9</td>\n",
              "      <td>2.6</td>\n",
              "      <td>0.972222</td>\n",
              "    </tr>\n",
              "    <tr>\n",
              "      <th>9</th>\n",
              "      <td>Jarrett Allen</td>\n",
              "      <td>C</td>\n",
              "      <td>24.0</td>\n",
              "      <td>CLE</td>\n",
              "      <td>68.0</td>\n",
              "      <td>68.0</td>\n",
              "      <td>32.6</td>\n",
              "      <td>5.9</td>\n",
              "      <td>9.2</td>\n",
              "      <td>0.644</td>\n",
              "      <td>...</td>\n",
              "      <td>9.8</td>\n",
              "      <td>1.7</td>\n",
              "      <td>0.8</td>\n",
              "      <td>1.2</td>\n",
              "      <td>1.4</td>\n",
              "      <td>2.3</td>\n",
              "      <td>14.3</td>\n",
              "      <td>5.3</td>\n",
              "      <td>3.7</td>\n",
              "      <td>1.000000</td>\n",
              "    </tr>\n",
              "    <tr>\n",
              "      <th>10</th>\n",
              "      <td>Jose Alvarado</td>\n",
              "      <td>PG</td>\n",
              "      <td>24.0</td>\n",
              "      <td>NOP</td>\n",
              "      <td>61.0</td>\n",
              "      <td>10.0</td>\n",
              "      <td>21.5</td>\n",
              "      <td>3.3</td>\n",
              "      <td>8.0</td>\n",
              "      <td>0.411</td>\n",
              "      <td>...</td>\n",
              "      <td>2.3</td>\n",
              "      <td>3.0</td>\n",
              "      <td>1.1</td>\n",
              "      <td>0.2</td>\n",
              "      <td>1.3</td>\n",
              "      <td>2.0</td>\n",
              "      <td>9.0</td>\n",
              "      <td>1.8</td>\n",
              "      <td>3.3</td>\n",
              "      <td>0.163934</td>\n",
              "    </tr>\n",
              "    <tr>\n",
              "      <th>11</th>\n",
              "      <td>Kyle Anderson</td>\n",
              "      <td>PF</td>\n",
              "      <td>29.0</td>\n",
              "      <td>MIN</td>\n",
              "      <td>69.0</td>\n",
              "      <td>46.0</td>\n",
              "      <td>28.4</td>\n",
              "      <td>3.7</td>\n",
              "      <td>7.2</td>\n",
              "      <td>0.509</td>\n",
              "      <td>...</td>\n",
              "      <td>5.3</td>\n",
              "      <td>4.9</td>\n",
              "      <td>1.1</td>\n",
              "      <td>0.9</td>\n",
              "      <td>1.5</td>\n",
              "      <td>2.1</td>\n",
              "      <td>9.4</td>\n",
              "      <td>3.0</td>\n",
              "      <td>3.6</td>\n",
              "      <td>0.666667</td>\n",
              "    </tr>\n",
              "    <tr>\n",
              "      <th>12</th>\n",
              "      <td>Giannis Antetokounmpo</td>\n",
              "      <td>PF</td>\n",
              "      <td>28.0</td>\n",
              "      <td>MIL</td>\n",
              "      <td>63.0</td>\n",
              "      <td>63.0</td>\n",
              "      <td>32.1</td>\n",
              "      <td>11.2</td>\n",
              "      <td>20.3</td>\n",
              "      <td>0.553</td>\n",
              "      <td>...</td>\n",
              "      <td>11.8</td>\n",
              "      <td>5.7</td>\n",
              "      <td>0.8</td>\n",
              "      <td>0.8</td>\n",
              "      <td>3.9</td>\n",
              "      <td>3.1</td>\n",
              "      <td>31.1</td>\n",
              "      <td>3.8</td>\n",
              "      <td>7.0</td>\n",
              "      <td>1.000000</td>\n",
              "    </tr>\n",
              "    <tr>\n",
              "      <th>13</th>\n",
              "      <td>Thanasis Antetokounmpo</td>\n",
              "      <td>PF</td>\n",
              "      <td>30.0</td>\n",
              "      <td>MIL</td>\n",
              "      <td>37.0</td>\n",
              "      <td>0.0</td>\n",
              "      <td>5.6</td>\n",
              "      <td>0.5</td>\n",
              "      <td>1.2</td>\n",
              "      <td>0.435</td>\n",
              "      <td>...</td>\n",
              "      <td>1.2</td>\n",
              "      <td>0.4</td>\n",
              "      <td>0.1</td>\n",
              "      <td>0.1</td>\n",
              "      <td>0.3</td>\n",
              "      <td>0.6</td>\n",
              "      <td>1.4</td>\n",
              "      <td>0.6</td>\n",
              "      <td>0.9</td>\n",
              "      <td>0.000000</td>\n",
              "    </tr>\n",
              "    <tr>\n",
              "      <th>14</th>\n",
              "      <td>Cole Anthony</td>\n",
              "      <td>PG</td>\n",
              "      <td>22.0</td>\n",
              "      <td>ORL</td>\n",
              "      <td>60.0</td>\n",
              "      <td>4.0</td>\n",
              "      <td>25.9</td>\n",
              "      <td>4.6</td>\n",
              "      <td>10.2</td>\n",
              "      <td>0.454</td>\n",
              "      <td>...</td>\n",
              "      <td>4.8</td>\n",
              "      <td>3.9</td>\n",
              "      <td>0.6</td>\n",
              "      <td>0.5</td>\n",
              "      <td>1.5</td>\n",
              "      <td>2.6</td>\n",
              "      <td>13.0</td>\n",
              "      <td>1.9</td>\n",
              "      <td>4.1</td>\n",
              "      <td>0.066667</td>\n",
              "    </tr>\n",
              "    <tr>\n",
              "      <th>15</th>\n",
              "      <td>OG Anunoby</td>\n",
              "      <td>SF</td>\n",
              "      <td>25.0</td>\n",
              "      <td>TOR</td>\n",
              "      <td>67.0</td>\n",
              "      <td>67.0</td>\n",
              "      <td>35.6</td>\n",
              "      <td>6.3</td>\n",
              "      <td>13.2</td>\n",
              "      <td>0.476</td>\n",
              "      <td>...</td>\n",
              "      <td>5.0</td>\n",
              "      <td>2.0</td>\n",
              "      <td>1.9</td>\n",
              "      <td>0.7</td>\n",
              "      <td>2.0</td>\n",
              "      <td>3.0</td>\n",
              "      <td>16.8</td>\n",
              "      <td>4.0</td>\n",
              "      <td>5.0</td>\n",
              "      <td>1.000000</td>\n",
              "    </tr>\n",
              "    <tr>\n",
              "      <th>16</th>\n",
              "      <td>Ryan Arcidiacono</td>\n",
              "      <td>PG</td>\n",
              "      <td>28.0</td>\n",
              "      <td>TOT</td>\n",
              "      <td>20.0</td>\n",
              "      <td>4.0</td>\n",
              "      <td>8.6</td>\n",
              "      <td>0.5</td>\n",
              "      <td>1.9</td>\n",
              "      <td>0.243</td>\n",
              "      <td>...</td>\n",
              "      <td>0.8</td>\n",
              "      <td>1.2</td>\n",
              "      <td>0.3</td>\n",
              "      <td>0.0</td>\n",
              "      <td>0.4</td>\n",
              "      <td>0.9</td>\n",
              "      <td>1.3</td>\n",
              "      <td>0.3</td>\n",
              "      <td>1.3</td>\n",
              "      <td>0.200000</td>\n",
              "    </tr>\n",
              "    <tr>\n",
              "      <th>17</th>\n",
              "      <td>Ryan Arcidiacono</td>\n",
              "      <td>PG</td>\n",
              "      <td>28.0</td>\n",
              "      <td>NYK</td>\n",
              "      <td>11.0</td>\n",
              "      <td>0.0</td>\n",
              "      <td>2.4</td>\n",
              "      <td>0.1</td>\n",
              "      <td>0.5</td>\n",
              "      <td>0.200</td>\n",
              "      <td>...</td>\n",
              "      <td>0.4</td>\n",
              "      <td>0.2</td>\n",
              "      <td>0.2</td>\n",
              "      <td>0.0</td>\n",
              "      <td>0.1</td>\n",
              "      <td>0.3</td>\n",
              "      <td>0.3</td>\n",
              "      <td>0.2</td>\n",
              "      <td>0.4</td>\n",
              "      <td>0.000000</td>\n",
              "    </tr>\n",
              "    <tr>\n",
              "      <th>18</th>\n",
              "      <td>Ryan Arcidiacono</td>\n",
              "      <td>PG</td>\n",
              "      <td>28.0</td>\n",
              "      <td>POR</td>\n",
              "      <td>9.0</td>\n",
              "      <td>4.0</td>\n",
              "      <td>16.2</td>\n",
              "      <td>0.9</td>\n",
              "      <td>3.6</td>\n",
              "      <td>0.250</td>\n",
              "      <td>...</td>\n",
              "      <td>1.2</td>\n",
              "      <td>2.3</td>\n",
              "      <td>0.3</td>\n",
              "      <td>0.0</td>\n",
              "      <td>0.7</td>\n",
              "      <td>1.6</td>\n",
              "      <td>2.6</td>\n",
              "      <td>0.3</td>\n",
              "      <td>2.3</td>\n",
              "      <td>0.444444</td>\n",
              "    </tr>\n",
              "    <tr>\n",
              "      <th>19</th>\n",
              "      <td>Deni Avdija</td>\n",
              "      <td>SF</td>\n",
              "      <td>22.0</td>\n",
              "      <td>WAS</td>\n",
              "      <td>76.0</td>\n",
              "      <td>40.0</td>\n",
              "      <td>26.6</td>\n",
              "      <td>3.3</td>\n",
              "      <td>7.6</td>\n",
              "      <td>0.437</td>\n",
              "      <td>...</td>\n",
              "      <td>6.4</td>\n",
              "      <td>2.8</td>\n",
              "      <td>0.9</td>\n",
              "      <td>0.4</td>\n",
              "      <td>1.6</td>\n",
              "      <td>2.8</td>\n",
              "      <td>9.2</td>\n",
              "      <td>2.3</td>\n",
              "      <td>4.4</td>\n",
              "      <td>0.526316</td>\n",
              "    </tr>\n",
              "  </tbody>\n",
              "</table>\n",
              "<p>20 rows × 32 columns</p>\n",
              "</div>"
            ],
            "text/plain": [
              "                      Player Pos   Age   Tm     G    GS    MP    FG   FGA  \\\n",
              "0           Precious Achiuwa   C  23.0  TOR  55.0  12.0  20.7   3.6   7.3   \n",
              "1               Steven Adams   C  29.0  MEM  42.0  42.0  27.0   3.7   6.3   \n",
              "2                Bam Adebayo   C  25.0  MIA  75.0  75.0  34.6   8.0  14.9   \n",
              "3               Ochai Agbaji  SG  22.0  UTA  59.0  22.0  20.5   2.8   6.5   \n",
              "4               Santi Aldama  PF  22.0  MEM  77.0  20.0  21.8   3.2   6.8   \n",
              "5   Nickeil Alexander-Walker  SG  24.0  TOT  59.0   3.0  15.0   2.2   5.0   \n",
              "6   Nickeil Alexander-Walker  SG  24.0  UTA  36.0   3.0  14.7   2.3   4.7   \n",
              "7   Nickeil Alexander-Walker  SG  24.0  MIN  23.0   0.0  15.5   2.1   5.4   \n",
              "8              Grayson Allen  SG  27.0  MIL  72.0  70.0  27.4   3.4   7.7   \n",
              "9              Jarrett Allen   C  24.0  CLE  68.0  68.0  32.6   5.9   9.2   \n",
              "10             Jose Alvarado  PG  24.0  NOP  61.0  10.0  21.5   3.3   8.0   \n",
              "11             Kyle Anderson  PF  29.0  MIN  69.0  46.0  28.4   3.7   7.2   \n",
              "12     Giannis Antetokounmpo  PF  28.0  MIL  63.0  63.0  32.1  11.2  20.3   \n",
              "13    Thanasis Antetokounmpo  PF  30.0  MIL  37.0   0.0   5.6   0.5   1.2   \n",
              "14              Cole Anthony  PG  22.0  ORL  60.0   4.0  25.9   4.6  10.2   \n",
              "15                OG Anunoby  SF  25.0  TOR  67.0  67.0  35.6   6.3  13.2   \n",
              "16          Ryan Arcidiacono  PG  28.0  TOT  20.0   4.0   8.6   0.5   1.9   \n",
              "17          Ryan Arcidiacono  PG  28.0  NYK  11.0   0.0   2.4   0.1   0.5   \n",
              "18          Ryan Arcidiacono  PG  28.0  POR   9.0   4.0  16.2   0.9   3.6   \n",
              "19               Deni Avdija  SF  22.0  WAS  76.0  40.0  26.6   3.3   7.6   \n",
              "\n",
              "      FG%  ...   TRB  AST  STL  BLK  TOV   PF   PTS  HustleStatsTotal  \\\n",
              "0   0.485  ...   6.0  0.9  0.6  0.5  1.1  1.9   9.2               2.9   \n",
              "1   0.597  ...  11.5  2.3  0.9  1.1  1.9  2.3   8.6               7.1   \n",
              "2   0.540  ...   9.2  3.2  1.2  0.8  2.5  2.8  20.4               4.5   \n",
              "3   0.427  ...   2.1  1.1  0.3  0.3  0.7  1.7   7.9               1.3   \n",
              "4   0.470  ...   4.8  1.3  0.6  0.6  0.8  1.9   9.0               2.3   \n",
              "5   0.444  ...   1.7  1.8  0.5  0.4  0.9  1.5   6.2               1.2   \n",
              "6   0.488  ...   1.6  2.1  0.7  0.4  1.3  1.6   6.3               1.3   \n",
              "7   0.384  ...   1.8  1.4  0.3  0.3  0.4  1.3   5.9               0.9   \n",
              "8   0.440  ...   3.3  2.3  0.9  0.2  1.0  1.6  10.4               1.9   \n",
              "9   0.644  ...   9.8  1.7  0.8  1.2  1.4  2.3  14.3               5.3   \n",
              "10  0.411  ...   2.3  3.0  1.1  0.2  1.3  2.0   9.0               1.8   \n",
              "11  0.509  ...   5.3  4.9  1.1  0.9  1.5  2.1   9.4               3.0   \n",
              "12  0.553  ...  11.8  5.7  0.8  0.8  3.9  3.1  31.1               3.8   \n",
              "13  0.435  ...   1.2  0.4  0.1  0.1  0.3  0.6   1.4               0.6   \n",
              "14  0.454  ...   4.8  3.9  0.6  0.5  1.5  2.6  13.0               1.9   \n",
              "15  0.476  ...   5.0  2.0  1.9  0.7  2.0  3.0  16.8               4.0   \n",
              "16  0.243  ...   0.8  1.2  0.3  0.0  0.4  0.9   1.3               0.3   \n",
              "17  0.200  ...   0.4  0.2  0.2  0.0  0.1  0.3   0.3               0.2   \n",
              "18  0.250  ...   1.2  2.3  0.3  0.0  0.7  1.6   2.6               0.3   \n",
              "19  0.437  ...   6.4  2.8  0.9  0.4  1.6  2.8   9.2               2.3   \n",
              "\n",
              "    BadStatsAvg  PctGamesStarted  \n",
              "0           3.0         0.218182  \n",
              "1           4.2         1.000000  \n",
              "2           5.3         1.000000  \n",
              "3           2.4         0.372881  \n",
              "4           2.7         0.259740  \n",
              "5           2.4         0.050847  \n",
              "6           2.9         0.083333  \n",
              "7           1.7         0.000000  \n",
              "8           2.6         0.972222  \n",
              "9           3.7         1.000000  \n",
              "10          3.3         0.163934  \n",
              "11          3.6         0.666667  \n",
              "12          7.0         1.000000  \n",
              "13          0.9         0.000000  \n",
              "14          4.1         0.066667  \n",
              "15          5.0         1.000000  \n",
              "16          1.3         0.200000  \n",
              "17          0.4         0.000000  \n",
              "18          2.3         0.444444  \n",
              "19          4.4         0.526316  \n",
              "\n",
              "[20 rows x 32 columns]"
            ]
          },
          "execution_count": 58,
          "metadata": {},
          "output_type": "execute_result"
        }
      ],
      "source": [
        "nba.head(20)"
      ]
    },
    {
      "cell_type": "code",
      "execution_count": null,
      "metadata": {},
      "outputs": [],
      "source": []
    },
    {
      "cell_type": "markdown",
      "metadata": {},
      "source": [
        "# Correlação, Covariância e Gráficos"
      ]
    },
    {
      "cell_type": "code",
      "execution_count": 59,
      "metadata": {},
      "outputs": [],
      "source": [
        "import matplotlib.pyplot as plt #biblioteca que traz diversos gráficos"
      ]
    },
    {
      "cell_type": "markdown",
      "metadata": {},
      "source": [
        "## Gráficos"
      ]
    },
    {
      "cell_type": "code",
      "execution_count": 60,
      "metadata": {},
      "outputs": [
        {
          "data": {
            "text/plain": [
              "[<matplotlib.lines.Line2D at 0x215754e1ba0>]"
            ]
          },
          "execution_count": 60,
          "metadata": {},
          "output_type": "execute_result"
        },
        {
          "data": {
            "image/png": "[encoded data removed]",
            "text/plain": [
              "<Figure size 432x288 with 1 Axes>"
            ]
          },
          "metadata": {
            "needs_background": "light"
          },
          "output_type": "display_data"
        }
      ],
      "source": [
        "plt.plot(badfp) #comando plot serve para criar gráficos de linhas"
      ]
    },
    {
      "cell_type": "code",
      "execution_count": 61,
      "metadata": {},
      "outputs": [],
      "source": [
        "grafico = badfp.cumsum()"
      ]
    },
    {
      "cell_type": "code",
      "execution_count": 62,
      "metadata": {},
      "outputs": [
        {
          "data": {
            "text/plain": [
              "Text(0.5, 1.0, 'Gráfico Acumulado')"
            ]
          },
          "execution_count": 62,
          "metadata": {},
          "output_type": "execute_result"
        },
        {
          "data": {
            "image/png": "[encoded data removed]",
            "text/plain": [
              "<Figure size 432x288 with 1 Axes>"
            ]
          },
          "metadata": {
            "needs_background": "light"
          },
          "output_type": "display_data"
        }
      ],
      "source": [
        "plt.plot(grafico, linestyle='--') #definindo o estilo da linha como tracejada\n",
        "plt.xlabel('Bad Stats total')\n",
        "plt.ylabel('Probabilidade')\n",
        "plt.title('Gráfico Acumulado')"
      ]
    },
    {
      "cell_type": "markdown",
      "metadata": {},
      "source": [
        "## Covariância"
      ]
    },
    {
      "cell_type": "code",
      "execution_count": 63,
      "metadata": {},
      "outputs": [
        {
          "data": {
            "text/html": [
              "<div>\n",
              "<style scoped>\n",
              "    .dataframe tbody tr th:only-of-type {\n",
              "        vertical-align: middle;\n",
              "    }\n",
              "\n",
              "    .dataframe tbody tr th {\n",
              "        vertical-align: top;\n",
              "    }\n",
              "\n",
              "    .dataframe thead th {\n",
              "        text-align: right;\n",
              "    }\n",
              "</style>\n",
              "<table border=\"1\" class=\"dataframe\">\n",
              "  <thead>\n",
              "    <tr style=\"text-align: right;\">\n",
              "      <th></th>\n",
              "      <th>GS</th>\n",
              "      <th>FG%</th>\n",
              "    </tr>\n",
              "  </thead>\n",
              "  <tbody>\n",
              "    <tr>\n",
              "      <th>GS</th>\n",
              "      <td>663.905231</td>\n",
              "      <td>0.445839</td>\n",
              "    </tr>\n",
              "    <tr>\n",
              "      <th>FG%</th>\n",
              "      <td>0.445839</td>\n",
              "      <td>0.012722</td>\n",
              "    </tr>\n",
              "  </tbody>\n",
              "</table>\n",
              "</div>"
            ],
            "text/plain": [
              "             GS       FG%\n",
              "GS   663.905231  0.445839\n",
              "FG%    0.445839  0.012722"
            ]
          },
          "execution_count": 63,
          "metadata": {},
          "output_type": "execute_result"
        }
      ],
      "source": [
        "nba[['GS', 'FG%']].cov()"
      ]
    },
    {
      "cell_type": "markdown",
      "metadata": {},
      "source": [
        "## Correlação"
      ]
    },
    {
      "cell_type": "code",
      "execution_count": 64,
      "metadata": {},
      "outputs": [
        {
          "data": {
            "text/html": [
              "<div>\n",
              "<style scoped>\n",
              "    .dataframe tbody tr th:only-of-type {\n",
              "        vertical-align: middle;\n",
              "    }\n",
              "\n",
              "    .dataframe tbody tr th {\n",
              "        vertical-align: top;\n",
              "    }\n",
              "\n",
              "    .dataframe thead th {\n",
              "        text-align: right;\n",
              "    }\n",
              "</style>\n",
              "<table border=\"1\" class=\"dataframe\">\n",
              "  <thead>\n",
              "    <tr style=\"text-align: right;\">\n",
              "      <th></th>\n",
              "      <th>GS</th>\n",
              "      <th>FG%</th>\n",
              "    </tr>\n",
              "  </thead>\n",
              "  <tbody>\n",
              "    <tr>\n",
              "      <th>GS</th>\n",
              "      <td>1.000000</td>\n",
              "      <td>0.153277</td>\n",
              "    </tr>\n",
              "    <tr>\n",
              "      <th>FG%</th>\n",
              "      <td>0.153277</td>\n",
              "      <td>1.000000</td>\n",
              "    </tr>\n",
              "  </tbody>\n",
              "</table>\n",
              "</div>"
            ],
            "text/plain": [
              "           GS       FG%\n",
              "GS   1.000000  0.153277\n",
              "FG%  0.153277  1.000000"
            ]
          },
          "execution_count": 64,
          "metadata": {},
          "output_type": "execute_result"
        }
      ],
      "source": [
        "nba[['GS', 'FG%']].corr()"
      ]
    },
    {
      "cell_type": "markdown",
      "metadata": {},
      "source": [
        "# Tratamento de dados"
      ]
    },
    {
      "cell_type": "code",
      "execution_count": 65,
      "metadata": {},
      "outputs": [
        {
          "data": {
            "text/html": [
              "<div>\n",
              "<style scoped>\n",
              "    .dataframe tbody tr th:only-of-type {\n",
              "        vertical-align: middle;\n",
              "    }\n",
              "\n",
              "    .dataframe tbody tr th {\n",
              "        vertical-align: top;\n",
              "    }\n",
              "\n",
              "    .dataframe thead th {\n",
              "        text-align: right;\n",
              "    }\n",
              "</style>\n",
              "<table border=\"1\" class=\"dataframe\">\n",
              "  <thead>\n",
              "    <tr style=\"text-align: right;\">\n",
              "      <th></th>\n",
              "      <th>Player</th>\n",
              "      <th>Pos</th>\n",
              "      <th>Age</th>\n",
              "      <th>Tm</th>\n",
              "      <th>G</th>\n",
              "      <th>GS</th>\n",
              "      <th>MP</th>\n",
              "      <th>FG</th>\n",
              "      <th>FGA</th>\n",
              "      <th>FG%</th>\n",
              "      <th>...</th>\n",
              "      <th>TRB</th>\n",
              "      <th>AST</th>\n",
              "      <th>STL</th>\n",
              "      <th>BLK</th>\n",
              "      <th>TOV</th>\n",
              "      <th>PF</th>\n",
              "      <th>PTS</th>\n",
              "      <th>HustleStatsTotal</th>\n",
              "      <th>BadStatsAvg</th>\n",
              "      <th>PctGamesStarted</th>\n",
              "    </tr>\n",
              "  </thead>\n",
              "  <tbody>\n",
              "    <tr>\n",
              "      <th>0</th>\n",
              "      <td>Precious Achiuwa</td>\n",
              "      <td>C</td>\n",
              "      <td>23.0</td>\n",
              "      <td>TOR</td>\n",
              "      <td>55.0</td>\n",
              "      <td>12.0</td>\n",
              "      <td>20.7</td>\n",
              "      <td>3.6</td>\n",
              "      <td>7.3</td>\n",
              "      <td>0.485</td>\n",
              "      <td>...</td>\n",
              "      <td>6.0</td>\n",
              "      <td>0.9</td>\n",
              "      <td>0.6</td>\n",
              "      <td>0.5</td>\n",
              "      <td>1.1</td>\n",
              "      <td>1.9</td>\n",
              "      <td>9.2</td>\n",
              "      <td>2.9</td>\n",
              "      <td>3.0</td>\n",
              "      <td>0.218182</td>\n",
              "    </tr>\n",
              "    <tr>\n",
              "      <th>1</th>\n",
              "      <td>Steven Adams</td>\n",
              "      <td>C</td>\n",
              "      <td>29.0</td>\n",
              "      <td>MEM</td>\n",
              "      <td>42.0</td>\n",
              "      <td>42.0</td>\n",
              "      <td>27.0</td>\n",
              "      <td>3.7</td>\n",
              "      <td>6.3</td>\n",
              "      <td>0.597</td>\n",
              "      <td>...</td>\n",
              "      <td>11.5</td>\n",
              "      <td>2.3</td>\n",
              "      <td>0.9</td>\n",
              "      <td>1.1</td>\n",
              "      <td>1.9</td>\n",
              "      <td>2.3</td>\n",
              "      <td>8.6</td>\n",
              "      <td>7.1</td>\n",
              "      <td>4.2</td>\n",
              "      <td>1.000000</td>\n",
              "    </tr>\n",
              "    <tr>\n",
              "      <th>2</th>\n",
              "      <td>Bam Adebayo</td>\n",
              "      <td>C</td>\n",
              "      <td>25.0</td>\n",
              "      <td>MIA</td>\n",
              "      <td>75.0</td>\n",
              "      <td>75.0</td>\n",
              "      <td>34.6</td>\n",
              "      <td>8.0</td>\n",
              "      <td>14.9</td>\n",
              "      <td>0.540</td>\n",
              "      <td>...</td>\n",
              "      <td>9.2</td>\n",
              "      <td>3.2</td>\n",
              "      <td>1.2</td>\n",
              "      <td>0.8</td>\n",
              "      <td>2.5</td>\n",
              "      <td>2.8</td>\n",
              "      <td>20.4</td>\n",
              "      <td>4.5</td>\n",
              "      <td>5.3</td>\n",
              "      <td>1.000000</td>\n",
              "    </tr>\n",
              "    <tr>\n",
              "      <th>3</th>\n",
              "      <td>Ochai Agbaji</td>\n",
              "      <td>SG</td>\n",
              "      <td>22.0</td>\n",
              "      <td>UTA</td>\n",
              "      <td>59.0</td>\n",
              "      <td>22.0</td>\n",
              "      <td>20.5</td>\n",
              "      <td>2.8</td>\n",
              "      <td>6.5</td>\n",
              "      <td>0.427</td>\n",
              "      <td>...</td>\n",
              "      <td>2.1</td>\n",
              "      <td>1.1</td>\n",
              "      <td>0.3</td>\n",
              "      <td>0.3</td>\n",
              "      <td>0.7</td>\n",
              "      <td>1.7</td>\n",
              "      <td>7.9</td>\n",
              "      <td>1.3</td>\n",
              "      <td>2.4</td>\n",
              "      <td>0.372881</td>\n",
              "    </tr>\n",
              "    <tr>\n",
              "      <th>4</th>\n",
              "      <td>Santi Aldama</td>\n",
              "      <td>PF</td>\n",
              "      <td>22.0</td>\n",
              "      <td>MEM</td>\n",
              "      <td>77.0</td>\n",
              "      <td>20.0</td>\n",
              "      <td>21.8</td>\n",
              "      <td>3.2</td>\n",
              "      <td>6.8</td>\n",
              "      <td>0.470</td>\n",
              "      <td>...</td>\n",
              "      <td>4.8</td>\n",
              "      <td>1.3</td>\n",
              "      <td>0.6</td>\n",
              "      <td>0.6</td>\n",
              "      <td>0.8</td>\n",
              "      <td>1.9</td>\n",
              "      <td>9.0</td>\n",
              "      <td>2.3</td>\n",
              "      <td>2.7</td>\n",
              "      <td>0.259740</td>\n",
              "    </tr>\n",
              "  </tbody>\n",
              "</table>\n",
              "<p>5 rows × 32 columns</p>\n",
              "</div>"
            ],
            "text/plain": [
              "             Player Pos   Age   Tm     G    GS    MP   FG   FGA    FG%  ...  \\\n",
              "0  Precious Achiuwa   C  23.0  TOR  55.0  12.0  20.7  3.6   7.3  0.485  ...   \n",
              "1      Steven Adams   C  29.0  MEM  42.0  42.0  27.0  3.7   6.3  0.597  ...   \n",
              "2       Bam Adebayo   C  25.0  MIA  75.0  75.0  34.6  8.0  14.9  0.540  ...   \n",
              "3      Ochai Agbaji  SG  22.0  UTA  59.0  22.0  20.5  2.8   6.5  0.427  ...   \n",
              "4      Santi Aldama  PF  22.0  MEM  77.0  20.0  21.8  3.2   6.8  0.470  ...   \n",
              "\n",
              "    TRB  AST  STL  BLK  TOV   PF   PTS  HustleStatsTotal  BadStatsAvg  \\\n",
              "0   6.0  0.9  0.6  0.5  1.1  1.9   9.2               2.9          3.0   \n",
              "1  11.5  2.3  0.9  1.1  1.9  2.3   8.6               7.1          4.2   \n",
              "2   9.2  3.2  1.2  0.8  2.5  2.8  20.4               4.5          5.3   \n",
              "3   2.1  1.1  0.3  0.3  0.7  1.7   7.9               1.3          2.4   \n",
              "4   4.8  1.3  0.6  0.6  0.8  1.9   9.0               2.3          2.7   \n",
              "\n",
              "   PctGamesStarted  \n",
              "0         0.218182  \n",
              "1         1.000000  \n",
              "2         1.000000  \n",
              "3         0.372881  \n",
              "4         0.259740  \n",
              "\n",
              "[5 rows x 32 columns]"
            ]
          },
          "execution_count": 65,
          "metadata": {},
          "output_type": "execute_result"
        }
      ],
      "source": [
        "nba.head()"
      ]
    },
    {
      "cell_type": "code",
      "execution_count": 66,
      "metadata": {},
      "outputs": [
        {
          "name": "stdout",
          "output_type": "stream",
          "text": [
            "<class 'pandas.core.frame.DataFrame'>\n",
            "RangeIndex: 705 entries, 0 to 704\n",
            "Data columns (total 32 columns):\n",
            " #   Column            Non-Null Count  Dtype  \n",
            "---  ------            --------------  -----  \n",
            " 0   Player            679 non-null    object \n",
            " 1   Pos               679 non-null    object \n",
            " 2   Age               679 non-null    float64\n",
            " 3   Tm                679 non-null    object \n",
            " 4   G                 679 non-null    float64\n",
            " 5   GS                679 non-null    float64\n",
            " 6   MP                679 non-null    float64\n",
            " 7   FG                679 non-null    float64\n",
            " 8   FGA               679 non-null    float64\n",
            " 9   FG%               676 non-null    float64\n",
            " 10  3P                679 non-null    float64\n",
            " 11  3PA               679 non-null    float64\n",
            " 12  3P%               655 non-null    float64\n",
            " 13  2P                679 non-null    float64\n",
            " 14  2PA               679 non-null    float64\n",
            " 15  2P%               672 non-null    float64\n",
            " 16  eFG%              676 non-null    float64\n",
            " 17  FT                679 non-null    float64\n",
            " 18  FTA               679 non-null    float64\n",
            " 19  FT%               642 non-null    float64\n",
            " 20  ORB               679 non-null    float64\n",
            " 21  DRB               679 non-null    float64\n",
            " 22  TRB               679 non-null    float64\n",
            " 23  AST               679 non-null    float64\n",
            " 24  STL               679 non-null    float64\n",
            " 25  BLK               679 non-null    float64\n",
            " 26  TOV               679 non-null    float64\n",
            " 27  PF                679 non-null    float64\n",
            " 28  PTS               679 non-null    float64\n",
            " 29  HustleStatsTotal  679 non-null    float64\n",
            " 30  BadStatsAvg       679 non-null    float64\n",
            " 31  PctGamesStarted   679 non-null    float64\n",
            "dtypes: float64(29), object(3)\n",
            "memory usage: 176.4+ KB\n"
          ]
        }
      ],
      "source": [
        "nba.info()"
      ]
    },
    {
      "cell_type": "code",
      "execution_count": 67,
      "metadata": {},
      "outputs": [],
      "source": [
        "nba.drop(['Player', 'Tm', 'Pos'], axis=1, inplace=True)  "
      ]
    },
    {
      "cell_type": "code",
      "execution_count": 68,
      "metadata": {},
      "outputs": [
        {
          "data": {
            "text/html": [
              "<div>\n",
              "<style scoped>\n",
              "    .dataframe tbody tr th:only-of-type {\n",
              "        vertical-align: middle;\n",
              "    }\n",
              "\n",
              "    .dataframe tbody tr th {\n",
              "        vertical-align: top;\n",
              "    }\n",
              "\n",
              "    .dataframe thead th {\n",
              "        text-align: right;\n",
              "    }\n",
              "</style>\n",
              "<table border=\"1\" class=\"dataframe\">\n",
              "  <thead>\n",
              "    <tr style=\"text-align: right;\">\n",
              "      <th></th>\n",
              "      <th>Age</th>\n",
              "      <th>G</th>\n",
              "      <th>GS</th>\n",
              "      <th>MP</th>\n",
              "      <th>FG</th>\n",
              "      <th>FGA</th>\n",
              "      <th>FG%</th>\n",
              "      <th>3P</th>\n",
              "      <th>3PA</th>\n",
              "      <th>3P%</th>\n",
              "      <th>...</th>\n",
              "      <th>TRB</th>\n",
              "      <th>AST</th>\n",
              "      <th>STL</th>\n",
              "      <th>BLK</th>\n",
              "      <th>TOV</th>\n",
              "      <th>PF</th>\n",
              "      <th>PTS</th>\n",
              "      <th>HustleStatsTotal</th>\n",
              "      <th>BadStatsAvg</th>\n",
              "      <th>PctGamesStarted</th>\n",
              "    </tr>\n",
              "  </thead>\n",
              "  <tbody>\n",
              "    <tr>\n",
              "      <th>0</th>\n",
              "      <td>23.0</td>\n",
              "      <td>55.0</td>\n",
              "      <td>12.0</td>\n",
              "      <td>20.7</td>\n",
              "      <td>3.6</td>\n",
              "      <td>7.3</td>\n",
              "      <td>0.485</td>\n",
              "      <td>0.5</td>\n",
              "      <td>2.0</td>\n",
              "      <td>0.269</td>\n",
              "      <td>...</td>\n",
              "      <td>6.0</td>\n",
              "      <td>0.9</td>\n",
              "      <td>0.6</td>\n",
              "      <td>0.5</td>\n",
              "      <td>1.1</td>\n",
              "      <td>1.9</td>\n",
              "      <td>9.2</td>\n",
              "      <td>2.9</td>\n",
              "      <td>3.0</td>\n",
              "      <td>0.218182</td>\n",
              "    </tr>\n",
              "    <tr>\n",
              "      <th>1</th>\n",
              "      <td>29.0</td>\n",
              "      <td>42.0</td>\n",
              "      <td>42.0</td>\n",
              "      <td>27.0</td>\n",
              "      <td>3.7</td>\n",
              "      <td>6.3</td>\n",
              "      <td>0.597</td>\n",
              "      <td>0.0</td>\n",
              "      <td>0.0</td>\n",
              "      <td>0.000</td>\n",
              "      <td>...</td>\n",
              "      <td>11.5</td>\n",
              "      <td>2.3</td>\n",
              "      <td>0.9</td>\n",
              "      <td>1.1</td>\n",
              "      <td>1.9</td>\n",
              "      <td>2.3</td>\n",
              "      <td>8.6</td>\n",
              "      <td>7.1</td>\n",
              "      <td>4.2</td>\n",
              "      <td>1.000000</td>\n",
              "    </tr>\n",
              "    <tr>\n",
              "      <th>2</th>\n",
              "      <td>25.0</td>\n",
              "      <td>75.0</td>\n",
              "      <td>75.0</td>\n",
              "      <td>34.6</td>\n",
              "      <td>8.0</td>\n",
              "      <td>14.9</td>\n",
              "      <td>0.540</td>\n",
              "      <td>0.0</td>\n",
              "      <td>0.2</td>\n",
              "      <td>0.083</td>\n",
              "      <td>...</td>\n",
              "      <td>9.2</td>\n",
              "      <td>3.2</td>\n",
              "      <td>1.2</td>\n",
              "      <td>0.8</td>\n",
              "      <td>2.5</td>\n",
              "      <td>2.8</td>\n",
              "      <td>20.4</td>\n",
              "      <td>4.5</td>\n",
              "      <td>5.3</td>\n",
              "      <td>1.000000</td>\n",
              "    </tr>\n",
              "    <tr>\n",
              "      <th>3</th>\n",
              "      <td>22.0</td>\n",
              "      <td>59.0</td>\n",
              "      <td>22.0</td>\n",
              "      <td>20.5</td>\n",
              "      <td>2.8</td>\n",
              "      <td>6.5</td>\n",
              "      <td>0.427</td>\n",
              "      <td>1.4</td>\n",
              "      <td>3.9</td>\n",
              "      <td>0.355</td>\n",
              "      <td>...</td>\n",
              "      <td>2.1</td>\n",
              "      <td>1.1</td>\n",
              "      <td>0.3</td>\n",
              "      <td>0.3</td>\n",
              "      <td>0.7</td>\n",
              "      <td>1.7</td>\n",
              "      <td>7.9</td>\n",
              "      <td>1.3</td>\n",
              "      <td>2.4</td>\n",
              "      <td>0.372881</td>\n",
              "    </tr>\n",
              "    <tr>\n",
              "      <th>4</th>\n",
              "      <td>22.0</td>\n",
              "      <td>77.0</td>\n",
              "      <td>20.0</td>\n",
              "      <td>21.8</td>\n",
              "      <td>3.2</td>\n",
              "      <td>6.8</td>\n",
              "      <td>0.470</td>\n",
              "      <td>1.2</td>\n",
              "      <td>3.5</td>\n",
              "      <td>0.353</td>\n",
              "      <td>...</td>\n",
              "      <td>4.8</td>\n",
              "      <td>1.3</td>\n",
              "      <td>0.6</td>\n",
              "      <td>0.6</td>\n",
              "      <td>0.8</td>\n",
              "      <td>1.9</td>\n",
              "      <td>9.0</td>\n",
              "      <td>2.3</td>\n",
              "      <td>2.7</td>\n",
              "      <td>0.259740</td>\n",
              "    </tr>\n",
              "  </tbody>\n",
              "</table>\n",
              "<p>5 rows × 29 columns</p>\n",
              "</div>"
            ],
            "text/plain": [
              "    Age     G    GS    MP   FG   FGA    FG%   3P  3PA    3P%  ...   TRB  AST  \\\n",
              "0  23.0  55.0  12.0  20.7  3.6   7.3  0.485  0.5  2.0  0.269  ...   6.0  0.9   \n",
              "1  29.0  42.0  42.0  27.0  3.7   6.3  0.597  0.0  0.0  0.000  ...  11.5  2.3   \n",
              "2  25.0  75.0  75.0  34.6  8.0  14.9  0.540  0.0  0.2  0.083  ...   9.2  3.2   \n",
              "3  22.0  59.0  22.0  20.5  2.8   6.5  0.427  1.4  3.9  0.355  ...   2.1  1.1   \n",
              "4  22.0  77.0  20.0  21.8  3.2   6.8  0.470  1.2  3.5  0.353  ...   4.8  1.3   \n",
              "\n",
              "   STL  BLK  TOV   PF   PTS  HustleStatsTotal  BadStatsAvg  PctGamesStarted  \n",
              "0  0.6  0.5  1.1  1.9   9.2               2.9          3.0         0.218182  \n",
              "1  0.9  1.1  1.9  2.3   8.6               7.1          4.2         1.000000  \n",
              "2  1.2  0.8  2.5  2.8  20.4               4.5          5.3         1.000000  \n",
              "3  0.3  0.3  0.7  1.7   7.9               1.3          2.4         0.372881  \n",
              "4  0.6  0.6  0.8  1.9   9.0               2.3          2.7         0.259740  \n",
              "\n",
              "[5 rows x 29 columns]"
            ]
          },
          "execution_count": 68,
          "metadata": {},
          "output_type": "execute_result"
        }
      ],
      "source": [
        "nba.head()"
      ]
    },
    {
      "cell_type": "code",
      "execution_count": 69,
      "metadata": {},
      "outputs": [
        {
          "data": {
            "text/html": [
              "<div>\n",
              "<style scoped>\n",
              "    .dataframe tbody tr th:only-of-type {\n",
              "        vertical-align: middle;\n",
              "    }\n",
              "\n",
              "    .dataframe tbody tr th {\n",
              "        vertical-align: top;\n",
              "    }\n",
              "\n",
              "    .dataframe thead th {\n",
              "        text-align: right;\n",
              "    }\n",
              "</style>\n",
              "<table border=\"1\" class=\"dataframe\">\n",
              "  <thead>\n",
              "    <tr style=\"text-align: right;\">\n",
              "      <th></th>\n",
              "      <th>Age</th>\n",
              "      <th>G</th>\n",
              "      <th>GS</th>\n",
              "      <th>MP</th>\n",
              "      <th>FG</th>\n",
              "      <th>FGA</th>\n",
              "      <th>FG%</th>\n",
              "      <th>3P</th>\n",
              "      <th>3PA</th>\n",
              "      <th>3P%</th>\n",
              "      <th>...</th>\n",
              "      <th>TRB</th>\n",
              "      <th>AST</th>\n",
              "      <th>STL</th>\n",
              "      <th>BLK</th>\n",
              "      <th>TOV</th>\n",
              "      <th>PF</th>\n",
              "      <th>PTS</th>\n",
              "      <th>HustleStatsTotal</th>\n",
              "      <th>BadStatsAvg</th>\n",
              "      <th>PctGamesStarted</th>\n",
              "    </tr>\n",
              "  </thead>\n",
              "  <tbody>\n",
              "    <tr>\n",
              "      <th>count</th>\n",
              "      <td>679.000000</td>\n",
              "      <td>679.000000</td>\n",
              "      <td>679.000000</td>\n",
              "      <td>679.000000</td>\n",
              "      <td>679.000000</td>\n",
              "      <td>679.000000</td>\n",
              "      <td>676.000000</td>\n",
              "      <td>679.000000</td>\n",
              "      <td>679.000000</td>\n",
              "      <td>655.000000</td>\n",
              "      <td>...</td>\n",
              "      <td>679.000000</td>\n",
              "      <td>679.000000</td>\n",
              "      <td>679.000000</td>\n",
              "      <td>679.000000</td>\n",
              "      <td>679.000000</td>\n",
              "      <td>679.000000</td>\n",
              "      <td>679.000000</td>\n",
              "      <td>679.000000</td>\n",
              "      <td>679.00000</td>\n",
              "      <td>679.000000</td>\n",
              "    </tr>\n",
              "    <tr>\n",
              "      <th>mean</th>\n",
              "      <td>26.025037</td>\n",
              "      <td>43.337261</td>\n",
              "      <td>20.069219</td>\n",
              "      <td>19.464212</td>\n",
              "      <td>3.249337</td>\n",
              "      <td>6.921060</td>\n",
              "      <td>0.464241</td>\n",
              "      <td>0.996613</td>\n",
              "      <td>2.783063</td>\n",
              "      <td>0.329798</td>\n",
              "      <td>...</td>\n",
              "      <td>3.461708</td>\n",
              "      <td>2.011782</td>\n",
              "      <td>0.601767</td>\n",
              "      <td>0.370545</td>\n",
              "      <td>1.067305</td>\n",
              "      <td>1.660825</td>\n",
              "      <td>8.859057</td>\n",
              "      <td>1.814580</td>\n",
              "      <td>2.72813</td>\n",
              "      <td>0.350301</td>\n",
              "    </tr>\n",
              "    <tr>\n",
              "      <th>std</th>\n",
              "      <td>4.325709</td>\n",
              "      <td>24.729145</td>\n",
              "      <td>25.766359</td>\n",
              "      <td>9.415320</td>\n",
              "      <td>2.362501</td>\n",
              "      <td>4.795565</td>\n",
              "      <td>0.112790</td>\n",
              "      <td>0.862033</td>\n",
              "      <td>2.209284</td>\n",
              "      <td>0.128238</td>\n",
              "      <td>...</td>\n",
              "      <td>2.281077</td>\n",
              "      <td>1.891335</td>\n",
              "      <td>0.392063</td>\n",
              "      <td>0.367465</td>\n",
              "      <td>0.799478</td>\n",
              "      <td>0.770299</td>\n",
              "      <td>6.630944</td>\n",
              "      <td>1.155828</td>\n",
              "      <td>1.41350</td>\n",
              "      <td>0.394272</td>\n",
              "    </tr>\n",
              "    <tr>\n",
              "      <th>min</th>\n",
              "      <td>19.000000</td>\n",
              "      <td>1.000000</td>\n",
              "      <td>0.000000</td>\n",
              "      <td>1.000000</td>\n",
              "      <td>0.000000</td>\n",
              "      <td>0.000000</td>\n",
              "      <td>0.000000</td>\n",
              "      <td>0.000000</td>\n",
              "      <td>0.000000</td>\n",
              "      <td>0.000000</td>\n",
              "      <td>...</td>\n",
              "      <td>0.000000</td>\n",
              "      <td>0.000000</td>\n",
              "      <td>0.000000</td>\n",
              "      <td>0.000000</td>\n",
              "      <td>0.000000</td>\n",
              "      <td>0.000000</td>\n",
              "      <td>0.000000</td>\n",
              "      <td>0.000000</td>\n",
              "      <td>0.00000</td>\n",
              "      <td>0.000000</td>\n",
              "    </tr>\n",
              "    <tr>\n",
              "      <th>25%</th>\n",
              "      <td>23.000000</td>\n",
              "      <td>22.000000</td>\n",
              "      <td>0.000000</td>\n",
              "      <td>12.150000</td>\n",
              "      <td>1.500000</td>\n",
              "      <td>3.400000</td>\n",
              "      <td>0.415000</td>\n",
              "      <td>0.300000</td>\n",
              "      <td>1.000000</td>\n",
              "      <td>0.297000</td>\n",
              "      <td>...</td>\n",
              "      <td>1.800000</td>\n",
              "      <td>0.800000</td>\n",
              "      <td>0.300000</td>\n",
              "      <td>0.100000</td>\n",
              "      <td>0.500000</td>\n",
              "      <td>1.200000</td>\n",
              "      <td>4.100000</td>\n",
              "      <td>1.000000</td>\n",
              "      <td>1.70000</td>\n",
              "      <td>0.000000</td>\n",
              "    </tr>\n",
              "    <tr>\n",
              "      <th>50%</th>\n",
              "      <td>25.000000</td>\n",
              "      <td>45.000000</td>\n",
              "      <td>6.000000</td>\n",
              "      <td>18.800000</td>\n",
              "      <td>2.600000</td>\n",
              "      <td>5.700000</td>\n",
              "      <td>0.454000</td>\n",
              "      <td>0.800000</td>\n",
              "      <td>2.400000</td>\n",
              "      <td>0.349000</td>\n",
              "      <td>...</td>\n",
              "      <td>3.000000</td>\n",
              "      <td>1.300000</td>\n",
              "      <td>0.500000</td>\n",
              "      <td>0.300000</td>\n",
              "      <td>0.900000</td>\n",
              "      <td>1.600000</td>\n",
              "      <td>6.900000</td>\n",
              "      <td>1.600000</td>\n",
              "      <td>2.50000</td>\n",
              "      <td>0.142857</td>\n",
              "    </tr>\n",
              "    <tr>\n",
              "      <th>75%</th>\n",
              "      <td>29.000000</td>\n",
              "      <td>65.500000</td>\n",
              "      <td>36.500000</td>\n",
              "      <td>27.550000</td>\n",
              "      <td>4.200000</td>\n",
              "      <td>9.200000</td>\n",
              "      <td>0.506000</td>\n",
              "      <td>1.500000</td>\n",
              "      <td>4.150000</td>\n",
              "      <td>0.389000</td>\n",
              "      <td>...</td>\n",
              "      <td>4.500000</td>\n",
              "      <td>2.700000</td>\n",
              "      <td>0.800000</td>\n",
              "      <td>0.500000</td>\n",
              "      <td>1.400000</td>\n",
              "      <td>2.200000</td>\n",
              "      <td>11.550000</td>\n",
              "      <td>2.400000</td>\n",
              "      <td>3.60000</td>\n",
              "      <td>0.755411</td>\n",
              "    </tr>\n",
              "    <tr>\n",
              "      <th>max</th>\n",
              "      <td>42.000000</td>\n",
              "      <td>83.000000</td>\n",
              "      <td>83.000000</td>\n",
              "      <td>41.000000</td>\n",
              "      <td>11.200000</td>\n",
              "      <td>22.200000</td>\n",
              "      <td>1.000000</td>\n",
              "      <td>4.900000</td>\n",
              "      <td>11.400000</td>\n",
              "      <td>1.000000</td>\n",
              "      <td>...</td>\n",
              "      <td>12.500000</td>\n",
              "      <td>10.700000</td>\n",
              "      <td>3.000000</td>\n",
              "      <td>3.000000</td>\n",
              "      <td>4.100000</td>\n",
              "      <td>5.000000</td>\n",
              "      <td>33.100000</td>\n",
              "      <td>7.200000</td>\n",
              "      <td>9.00000</td>\n",
              "      <td>1.000000</td>\n",
              "    </tr>\n",
              "  </tbody>\n",
              "</table>\n",
              "<p>8 rows × 29 columns</p>\n",
              "</div>"
            ],
            "text/plain": [
              "              Age           G          GS          MP          FG         FGA  \\\n",
              "count  679.000000  679.000000  679.000000  679.000000  679.000000  679.000000   \n",
              "mean    26.025037   43.337261   20.069219   19.464212    3.249337    6.921060   \n",
              "std      4.325709   24.729145   25.766359    9.415320    2.362501    4.795565   \n",
              "min     19.000000    1.000000    0.000000    1.000000    0.000000    0.000000   \n",
              "25%     23.000000   22.000000    0.000000   12.150000    1.500000    3.400000   \n",
              "50%     25.000000   45.000000    6.000000   18.800000    2.600000    5.700000   \n",
              "75%     29.000000   65.500000   36.500000   27.550000    4.200000    9.200000   \n",
              "max     42.000000   83.000000   83.000000   41.000000   11.200000   22.200000   \n",
              "\n",
              "              FG%          3P         3PA         3P%  ...         TRB  \\\n",
              "count  676.000000  679.000000  679.000000  655.000000  ...  679.000000   \n",
              "mean     0.464241    0.996613    2.783063    0.329798  ...    3.461708   \n",
              "std      0.112790    0.862033    2.209284    0.128238  ...    2.281077   \n",
              "min      0.000000    0.000000    0.000000    0.000000  ...    0.000000   \n",
              "25%      0.415000    0.300000    1.000000    0.297000  ...    1.800000   \n",
              "50%      0.454000    0.800000    2.400000    0.349000  ...    3.000000   \n",
              "75%      0.506000    1.500000    4.150000    0.389000  ...    4.500000   \n",
              "max      1.000000    4.900000   11.400000    1.000000  ...   12.500000   \n",
              "\n",
              "              AST         STL         BLK         TOV          PF         PTS  \\\n",
              "count  679.000000  679.000000  679.000000  679.000000  679.000000  679.000000   \n",
              "mean     2.011782    0.601767    0.370545    1.067305    1.660825    8.859057   \n",
              "std      1.891335    0.392063    0.367465    0.799478    0.770299    6.630944   \n",
              "min      0.000000    0.000000    0.000000    0.000000    0.000000    0.000000   \n",
              "25%      0.800000    0.300000    0.100000    0.500000    1.200000    4.100000   \n",
              "50%      1.300000    0.500000    0.300000    0.900000    1.600000    6.900000   \n",
              "75%      2.700000    0.800000    0.500000    1.400000    2.200000   11.550000   \n",
              "max     10.700000    3.000000    3.000000    4.100000    5.000000   33.100000   \n",
              "\n",
              "       HustleStatsTotal  BadStatsAvg  PctGamesStarted  \n",
              "count        679.000000    679.00000       679.000000  \n",
              "mean           1.814580      2.72813         0.350301  \n",
              "std            1.155828      1.41350         0.394272  \n",
              "min            0.000000      0.00000         0.000000  \n",
              "25%            1.000000      1.70000         0.000000  \n",
              "50%            1.600000      2.50000         0.142857  \n",
              "75%            2.400000      3.60000         0.755411  \n",
              "max            7.200000      9.00000         1.000000  \n",
              "\n",
              "[8 rows x 29 columns]"
            ]
          },
          "execution_count": 69,
          "metadata": {},
          "output_type": "execute_result"
        }
      ],
      "source": [
        "nba.describe()"
      ]
    },
    {
      "cell_type": "code",
      "execution_count": 70,
      "metadata": {},
      "outputs": [
        {
          "ename": "ModuleNotFoundError",
          "evalue": "No module named 'seaborn'",
          "output_type": "error",
          "traceback": [
            "\u001b[1;31m---------------------------------------------------------------------------\u001b[0m",
            "\u001b[1;31mModuleNotFoundError\u001b[0m                       Traceback (most recent call last)",
            "\u001b[1;32mc:\\Users\\caiob\\OneDrive\\Eu\\OneDrive\\Documentos\\Codes (CESAR and Others)\\2nd Semester (2023)\\Estatistica\\ccbc_mvbb.ipynb Cell 117\u001b[0m line \u001b[0;36m<cell line: 1>\u001b[1;34m()\u001b[0m\n\u001b[1;32m----> <a href='vscode-notebook-cell:/c%3A/Users/caiob/OneDrive/Eu/OneDrive/Documentos/Codes%20%28CESAR%20and%20Others%29/2nd%20Semester%20%282023%29/Estatistica/ccbc_mvbb.ipynb#Y224sZmlsZQ%3D%3D?line=0'>1</a>\u001b[0m \u001b[39mimport\u001b[39;00m \u001b[39mseaborn\u001b[39;00m \u001b[39mas\u001b[39;00m \u001b[39msns\u001b[39;00m\n\u001b[0;32m      <a href='vscode-notebook-cell:/c%3A/Users/caiob/OneDrive/Eu/OneDrive/Documentos/Codes%20%28CESAR%20and%20Others%29/2nd%20Semester%20%282023%29/Estatistica/ccbc_mvbb.ipynb#Y224sZmlsZQ%3D%3D?line=2'>3</a>\u001b[0m sns\u001b[39m.\u001b[39mheatmap(nba\u001b[39m.\u001b[39misnull(), yticklabels \u001b[39m=\u001b[39m \u001b[39mFalse\u001b[39;00m)\n",
            "\u001b[1;31mModuleNotFoundError\u001b[0m: No module named 'seaborn'"
          ]
        }
      ],
      "source": [
        "import seaborn as sns\n",
        "\n",
        "sns.heatmap(nba.isnull(), yticklabels = False)"
      ]
    },
    {
      "cell_type": "code",
      "execution_count": null,
      "metadata": {},
      "outputs": [],
      "source": [
        "#Completar os valores null com a mediana das idades por classe.\n",
        "nba.loc[nba.Age.isna() & (nba.GS==1), 'Age'] = nba[nba.Pclass==1].Age.median()\n",
        "nba.loc[nba.Age.isna() & (nba.Pclass==2), 'Age'] = nba[nba.Pclass==2].Age.median()\n",
        "nba.loc[nba.Age.isna() & (nba.Pclass==3), 'Age'] = nba[nba.Pclass==3].Age.median()"
      ]
    }
  ],
  "metadata": {
    "colab": {
      "provenance": []
    },
    "kernelspec": {
      "display_name": "Python 3",
      "name": "python3"
    },
    "language_info": {
      "codemirror_mode": {
        "name": "ipython",
        "version": 3
      },
      "file_extension": ".py",
      "mimetype": "text/x-python",
      "name": "python",
      "nbconvert_exporter": "python",
      "pygments_lexer": "ipython3",
      "version": "3.10.7"
    }
  },
  "nbformat": 4,
  "nbformat_minor": 0
}
