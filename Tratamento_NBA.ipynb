{
  "cells": [
    {
      "cell_type": "code",
      "execution_count": 1,
      "metadata": {
        "id": "hD2PHyoO7ilR"
      },
      "outputs": [],
      "source": [
        "import pandas as pd #Importando as bibliotecas\n",
        "import numpy as np"
      ]
    },
    {
      "cell_type": "code",
      "execution_count": 2,
      "metadata": {
        "colab": {
          "base_uri": "https://localhost:8080/",
          "height": 1000
        },
        "id": "0Xf8cJKc8TJI",
        "outputId": "3b91b8a0-f63f-40eb-8558-d8efb5f8c9a4"
      },
      "outputs": [
        {
          "data": {
            "text/html": [
              "<div>\n",
              "<style scoped>\n",
              "    .dataframe tbody tr th:only-of-type {\n",
              "        vertical-align: middle;\n",
              "    }\n",
              "\n",
              "    .dataframe tbody tr th {\n",
              "        vertical-align: top;\n",
              "    }\n",
              "\n",
              "    .dataframe thead th {\n",
              "        text-align: right;\n",
              "    }\n",
              "</style>\n",
              "<table border=\"1\" class=\"dataframe\">\n",
              "  <thead>\n",
              "    <tr style=\"text-align: right;\">\n",
              "      <th></th>\n",
              "      <th>Player</th>\n",
              "      <th>Pos</th>\n",
              "      <th>Age</th>\n",
              "      <th>Tm</th>\n",
              "      <th>G</th>\n",
              "      <th>GS</th>\n",
              "      <th>MP</th>\n",
              "      <th>FG</th>\n",
              "      <th>FGA</th>\n",
              "      <th>FG%</th>\n",
              "      <th>...</th>\n",
              "      <th>FT%</th>\n",
              "      <th>ORB</th>\n",
              "      <th>DRB</th>\n",
              "      <th>TRB</th>\n",
              "      <th>AST</th>\n",
              "      <th>STL</th>\n",
              "      <th>BLK</th>\n",
              "      <th>TOV</th>\n",
              "      <th>PF</th>\n",
              "      <th>PTS</th>\n",
              "    </tr>\n",
              "  </thead>\n",
              "  <tbody>\n",
              "    <tr>\n",
              "      <th>0</th>\n",
              "      <td>Precious Achiuwa</td>\n",
              "      <td>C</td>\n",
              "      <td>23.0</td>\n",
              "      <td>TOR</td>\n",
              "      <td>55.0</td>\n",
              "      <td>12.0</td>\n",
              "      <td>20.7</td>\n",
              "      <td>3.6</td>\n",
              "      <td>7.3</td>\n",
              "      <td>0.485</td>\n",
              "      <td>...</td>\n",
              "      <td>0.702</td>\n",
              "      <td>1.8</td>\n",
              "      <td>4.1</td>\n",
              "      <td>6.0</td>\n",
              "      <td>0.9</td>\n",
              "      <td>0.6</td>\n",
              "      <td>0.5</td>\n",
              "      <td>1.1</td>\n",
              "      <td>1.9</td>\n",
              "      <td>9.2</td>\n",
              "    </tr>\n",
              "    <tr>\n",
              "      <th>1</th>\n",
              "      <td>Steven Adams</td>\n",
              "      <td>C</td>\n",
              "      <td>29.0</td>\n",
              "      <td>MEM</td>\n",
              "      <td>42.0</td>\n",
              "      <td>42.0</td>\n",
              "      <td>27.0</td>\n",
              "      <td>3.7</td>\n",
              "      <td>6.3</td>\n",
              "      <td>0.597</td>\n",
              "      <td>...</td>\n",
              "      <td>0.364</td>\n",
              "      <td>5.1</td>\n",
              "      <td>6.5</td>\n",
              "      <td>11.5</td>\n",
              "      <td>2.3</td>\n",
              "      <td>0.9</td>\n",
              "      <td>1.1</td>\n",
              "      <td>1.9</td>\n",
              "      <td>2.3</td>\n",
              "      <td>8.6</td>\n",
              "    </tr>\n",
              "    <tr>\n",
              "      <th>2</th>\n",
              "      <td>Bam Adebayo</td>\n",
              "      <td>C</td>\n",
              "      <td>25.0</td>\n",
              "      <td>MIA</td>\n",
              "      <td>75.0</td>\n",
              "      <td>75.0</td>\n",
              "      <td>34.6</td>\n",
              "      <td>8.0</td>\n",
              "      <td>14.9</td>\n",
              "      <td>0.540</td>\n",
              "      <td>...</td>\n",
              "      <td>0.806</td>\n",
              "      <td>2.5</td>\n",
              "      <td>6.7</td>\n",
              "      <td>9.2</td>\n",
              "      <td>3.2</td>\n",
              "      <td>1.2</td>\n",
              "      <td>0.8</td>\n",
              "      <td>2.5</td>\n",
              "      <td>2.8</td>\n",
              "      <td>20.4</td>\n",
              "    </tr>\n",
              "    <tr>\n",
              "      <th>3</th>\n",
              "      <td>Ochai Agbaji</td>\n",
              "      <td>SG</td>\n",
              "      <td>22.0</td>\n",
              "      <td>UTA</td>\n",
              "      <td>59.0</td>\n",
              "      <td>22.0</td>\n",
              "      <td>20.5</td>\n",
              "      <td>2.8</td>\n",
              "      <td>6.5</td>\n",
              "      <td>0.427</td>\n",
              "      <td>...</td>\n",
              "      <td>0.812</td>\n",
              "      <td>0.7</td>\n",
              "      <td>1.3</td>\n",
              "      <td>2.1</td>\n",
              "      <td>1.1</td>\n",
              "      <td>0.3</td>\n",
              "      <td>0.3</td>\n",
              "      <td>0.7</td>\n",
              "      <td>1.7</td>\n",
              "      <td>7.9</td>\n",
              "    </tr>\n",
              "    <tr>\n",
              "      <th>4</th>\n",
              "      <td>Santi Aldama</td>\n",
              "      <td>PF</td>\n",
              "      <td>22.0</td>\n",
              "      <td>MEM</td>\n",
              "      <td>77.0</td>\n",
              "      <td>20.0</td>\n",
              "      <td>21.8</td>\n",
              "      <td>3.2</td>\n",
              "      <td>6.8</td>\n",
              "      <td>0.470</td>\n",
              "      <td>...</td>\n",
              "      <td>0.750</td>\n",
              "      <td>1.1</td>\n",
              "      <td>3.7</td>\n",
              "      <td>4.8</td>\n",
              "      <td>1.3</td>\n",
              "      <td>0.6</td>\n",
              "      <td>0.6</td>\n",
              "      <td>0.8</td>\n",
              "      <td>1.9</td>\n",
              "      <td>9.0</td>\n",
              "    </tr>\n",
              "    <tr>\n",
              "      <th>5</th>\n",
              "      <td>Nickeil Alexander-Walker</td>\n",
              "      <td>SG</td>\n",
              "      <td>24.0</td>\n",
              "      <td>TOT</td>\n",
              "      <td>59.0</td>\n",
              "      <td>3.0</td>\n",
              "      <td>15.0</td>\n",
              "      <td>2.2</td>\n",
              "      <td>5.0</td>\n",
              "      <td>0.444</td>\n",
              "      <td>...</td>\n",
              "      <td>0.667</td>\n",
              "      <td>0.3</td>\n",
              "      <td>1.5</td>\n",
              "      <td>1.7</td>\n",
              "      <td>1.8</td>\n",
              "      <td>0.5</td>\n",
              "      <td>0.4</td>\n",
              "      <td>0.9</td>\n",
              "      <td>1.5</td>\n",
              "      <td>6.2</td>\n",
              "    </tr>\n",
              "    <tr>\n",
              "      <th>6</th>\n",
              "      <td>Nickeil Alexander-Walker</td>\n",
              "      <td>SG</td>\n",
              "      <td>24.0</td>\n",
              "      <td>UTA</td>\n",
              "      <td>36.0</td>\n",
              "      <td>3.0</td>\n",
              "      <td>14.7</td>\n",
              "      <td>2.3</td>\n",
              "      <td>4.7</td>\n",
              "      <td>0.488</td>\n",
              "      <td>...</td>\n",
              "      <td>0.692</td>\n",
              "      <td>0.2</td>\n",
              "      <td>1.4</td>\n",
              "      <td>1.6</td>\n",
              "      <td>2.1</td>\n",
              "      <td>0.7</td>\n",
              "      <td>0.4</td>\n",
              "      <td>1.3</td>\n",
              "      <td>1.6</td>\n",
              "      <td>6.3</td>\n",
              "    </tr>\n",
              "    <tr>\n",
              "      <th>7</th>\n",
              "      <td>Nickeil Alexander-Walker</td>\n",
              "      <td>SG</td>\n",
              "      <td>24.0</td>\n",
              "      <td>MIN</td>\n",
              "      <td>23.0</td>\n",
              "      <td>0.0</td>\n",
              "      <td>15.5</td>\n",
              "      <td>2.1</td>\n",
              "      <td>5.4</td>\n",
              "      <td>0.384</td>\n",
              "      <td>...</td>\n",
              "      <td>0.619</td>\n",
              "      <td>0.3</td>\n",
              "      <td>1.5</td>\n",
              "      <td>1.8</td>\n",
              "      <td>1.4</td>\n",
              "      <td>0.3</td>\n",
              "      <td>0.3</td>\n",
              "      <td>0.4</td>\n",
              "      <td>1.3</td>\n",
              "      <td>5.9</td>\n",
              "    </tr>\n",
              "    <tr>\n",
              "      <th>8</th>\n",
              "      <td>Grayson Allen</td>\n",
              "      <td>SG</td>\n",
              "      <td>27.0</td>\n",
              "      <td>MIL</td>\n",
              "      <td>72.0</td>\n",
              "      <td>70.0</td>\n",
              "      <td>27.4</td>\n",
              "      <td>3.4</td>\n",
              "      <td>7.7</td>\n",
              "      <td>0.440</td>\n",
              "      <td>...</td>\n",
              "      <td>0.905</td>\n",
              "      <td>0.8</td>\n",
              "      <td>2.4</td>\n",
              "      <td>3.3</td>\n",
              "      <td>2.3</td>\n",
              "      <td>0.9</td>\n",
              "      <td>0.2</td>\n",
              "      <td>1.0</td>\n",
              "      <td>1.6</td>\n",
              "      <td>10.4</td>\n",
              "    </tr>\n",
              "    <tr>\n",
              "      <th>9</th>\n",
              "      <td>Jarrett Allen</td>\n",
              "      <td>C</td>\n",
              "      <td>24.0</td>\n",
              "      <td>CLE</td>\n",
              "      <td>68.0</td>\n",
              "      <td>68.0</td>\n",
              "      <td>32.6</td>\n",
              "      <td>5.9</td>\n",
              "      <td>9.2</td>\n",
              "      <td>0.644</td>\n",
              "      <td>...</td>\n",
              "      <td>0.733</td>\n",
              "      <td>3.3</td>\n",
              "      <td>6.5</td>\n",
              "      <td>9.8</td>\n",
              "      <td>1.7</td>\n",
              "      <td>0.8</td>\n",
              "      <td>1.2</td>\n",
              "      <td>1.4</td>\n",
              "      <td>2.3</td>\n",
              "      <td>14.3</td>\n",
              "    </tr>\n",
              "    <tr>\n",
              "      <th>10</th>\n",
              "      <td>Jose Alvarado</td>\n",
              "      <td>PG</td>\n",
              "      <td>24.0</td>\n",
              "      <td>NOP</td>\n",
              "      <td>61.0</td>\n",
              "      <td>10.0</td>\n",
              "      <td>21.5</td>\n",
              "      <td>3.3</td>\n",
              "      <td>8.0</td>\n",
              "      <td>0.411</td>\n",
              "      <td>...</td>\n",
              "      <td>0.813</td>\n",
              "      <td>0.5</td>\n",
              "      <td>1.9</td>\n",
              "      <td>2.3</td>\n",
              "      <td>3.0</td>\n",
              "      <td>1.1</td>\n",
              "      <td>0.2</td>\n",
              "      <td>1.3</td>\n",
              "      <td>2.0</td>\n",
              "      <td>9.0</td>\n",
              "    </tr>\n",
              "    <tr>\n",
              "      <th>11</th>\n",
              "      <td>Kyle Anderson</td>\n",
              "      <td>PF</td>\n",
              "      <td>29.0</td>\n",
              "      <td>MIN</td>\n",
              "      <td>69.0</td>\n",
              "      <td>46.0</td>\n",
              "      <td>28.4</td>\n",
              "      <td>3.7</td>\n",
              "      <td>7.2</td>\n",
              "      <td>0.509</td>\n",
              "      <td>...</td>\n",
              "      <td>0.735</td>\n",
              "      <td>1.0</td>\n",
              "      <td>4.4</td>\n",
              "      <td>5.3</td>\n",
              "      <td>4.9</td>\n",
              "      <td>1.1</td>\n",
              "      <td>0.9</td>\n",
              "      <td>1.5</td>\n",
              "      <td>2.1</td>\n",
              "      <td>9.4</td>\n",
              "    </tr>\n",
              "    <tr>\n",
              "      <th>12</th>\n",
              "      <td>Giannis Antetokounmpo</td>\n",
              "      <td>PF</td>\n",
              "      <td>28.0</td>\n",
              "      <td>MIL</td>\n",
              "      <td>63.0</td>\n",
              "      <td>63.0</td>\n",
              "      <td>32.1</td>\n",
              "      <td>11.2</td>\n",
              "      <td>20.3</td>\n",
              "      <td>0.553</td>\n",
              "      <td>...</td>\n",
              "      <td>0.645</td>\n",
              "      <td>2.2</td>\n",
              "      <td>9.6</td>\n",
              "      <td>11.8</td>\n",
              "      <td>5.7</td>\n",
              "      <td>0.8</td>\n",
              "      <td>0.8</td>\n",
              "      <td>3.9</td>\n",
              "      <td>3.1</td>\n",
              "      <td>31.1</td>\n",
              "    </tr>\n",
              "    <tr>\n",
              "      <th>13</th>\n",
              "      <td>Thanasis Antetokounmpo</td>\n",
              "      <td>PF</td>\n",
              "      <td>30.0</td>\n",
              "      <td>MIL</td>\n",
              "      <td>37.0</td>\n",
              "      <td>0.0</td>\n",
              "      <td>5.6</td>\n",
              "      <td>0.5</td>\n",
              "      <td>1.2</td>\n",
              "      <td>0.435</td>\n",
              "      <td>...</td>\n",
              "      <td>0.500</td>\n",
              "      <td>0.4</td>\n",
              "      <td>0.8</td>\n",
              "      <td>1.2</td>\n",
              "      <td>0.4</td>\n",
              "      <td>0.1</td>\n",
              "      <td>0.1</td>\n",
              "      <td>0.3</td>\n",
              "      <td>0.6</td>\n",
              "      <td>1.4</td>\n",
              "    </tr>\n",
              "    <tr>\n",
              "      <th>14</th>\n",
              "      <td>Cole Anthony</td>\n",
              "      <td>PG</td>\n",
              "      <td>22.0</td>\n",
              "      <td>ORL</td>\n",
              "      <td>60.0</td>\n",
              "      <td>4.0</td>\n",
              "      <td>25.9</td>\n",
              "      <td>4.6</td>\n",
              "      <td>10.2</td>\n",
              "      <td>0.454</td>\n",
              "      <td>...</td>\n",
              "      <td>0.894</td>\n",
              "      <td>0.8</td>\n",
              "      <td>4.0</td>\n",
              "      <td>4.8</td>\n",
              "      <td>3.9</td>\n",
              "      <td>0.6</td>\n",
              "      <td>0.5</td>\n",
              "      <td>1.5</td>\n",
              "      <td>2.6</td>\n",
              "      <td>13.0</td>\n",
              "    </tr>\n",
              "    <tr>\n",
              "      <th>15</th>\n",
              "      <td>OG Anunoby</td>\n",
              "      <td>SF</td>\n",
              "      <td>25.0</td>\n",
              "      <td>TOR</td>\n",
              "      <td>67.0</td>\n",
              "      <td>67.0</td>\n",
              "      <td>35.6</td>\n",
              "      <td>6.3</td>\n",
              "      <td>13.2</td>\n",
              "      <td>0.476</td>\n",
              "      <td>...</td>\n",
              "      <td>0.838</td>\n",
              "      <td>1.4</td>\n",
              "      <td>3.5</td>\n",
              "      <td>5.0</td>\n",
              "      <td>2.0</td>\n",
              "      <td>1.9</td>\n",
              "      <td>0.7</td>\n",
              "      <td>2.0</td>\n",
              "      <td>3.0</td>\n",
              "      <td>16.8</td>\n",
              "    </tr>\n",
              "    <tr>\n",
              "      <th>16</th>\n",
              "      <td>Ryan Arcidiacono</td>\n",
              "      <td>PG</td>\n",
              "      <td>28.0</td>\n",
              "      <td>TOT</td>\n",
              "      <td>20.0</td>\n",
              "      <td>4.0</td>\n",
              "      <td>8.6</td>\n",
              "      <td>0.5</td>\n",
              "      <td>1.9</td>\n",
              "      <td>0.243</td>\n",
              "      <td>...</td>\n",
              "      <td>NaN</td>\n",
              "      <td>0.0</td>\n",
              "      <td>0.8</td>\n",
              "      <td>0.8</td>\n",
              "      <td>1.2</td>\n",
              "      <td>0.3</td>\n",
              "      <td>0.0</td>\n",
              "      <td>0.4</td>\n",
              "      <td>0.9</td>\n",
              "      <td>1.3</td>\n",
              "    </tr>\n",
              "    <tr>\n",
              "      <th>17</th>\n",
              "      <td>Ryan Arcidiacono</td>\n",
              "      <td>PG</td>\n",
              "      <td>28.0</td>\n",
              "      <td>NYK</td>\n",
              "      <td>11.0</td>\n",
              "      <td>0.0</td>\n",
              "      <td>2.4</td>\n",
              "      <td>0.1</td>\n",
              "      <td>0.5</td>\n",
              "      <td>0.200</td>\n",
              "      <td>...</td>\n",
              "      <td>NaN</td>\n",
              "      <td>0.0</td>\n",
              "      <td>0.4</td>\n",
              "      <td>0.4</td>\n",
              "      <td>0.2</td>\n",
              "      <td>0.2</td>\n",
              "      <td>0.0</td>\n",
              "      <td>0.1</td>\n",
              "      <td>0.3</td>\n",
              "      <td>0.3</td>\n",
              "    </tr>\n",
              "    <tr>\n",
              "      <th>18</th>\n",
              "      <td>Ryan Arcidiacono</td>\n",
              "      <td>PG</td>\n",
              "      <td>28.0</td>\n",
              "      <td>POR</td>\n",
              "      <td>9.0</td>\n",
              "      <td>4.0</td>\n",
              "      <td>16.2</td>\n",
              "      <td>0.9</td>\n",
              "      <td>3.6</td>\n",
              "      <td>0.250</td>\n",
              "      <td>...</td>\n",
              "      <td>NaN</td>\n",
              "      <td>0.0</td>\n",
              "      <td>1.2</td>\n",
              "      <td>1.2</td>\n",
              "      <td>2.3</td>\n",
              "      <td>0.3</td>\n",
              "      <td>0.0</td>\n",
              "      <td>0.7</td>\n",
              "      <td>1.6</td>\n",
              "      <td>2.6</td>\n",
              "    </tr>\n",
              "    <tr>\n",
              "      <th>19</th>\n",
              "      <td>Deni Avdija</td>\n",
              "      <td>SF</td>\n",
              "      <td>22.0</td>\n",
              "      <td>WAS</td>\n",
              "      <td>76.0</td>\n",
              "      <td>40.0</td>\n",
              "      <td>26.6</td>\n",
              "      <td>3.3</td>\n",
              "      <td>7.6</td>\n",
              "      <td>0.437</td>\n",
              "      <td>...</td>\n",
              "      <td>0.739</td>\n",
              "      <td>1.0</td>\n",
              "      <td>5.4</td>\n",
              "      <td>6.4</td>\n",
              "      <td>2.8</td>\n",
              "      <td>0.9</td>\n",
              "      <td>0.4</td>\n",
              "      <td>1.6</td>\n",
              "      <td>2.8</td>\n",
              "      <td>9.2</td>\n",
              "    </tr>\n",
              "  </tbody>\n",
              "</table>\n",
              "<p>20 rows × 29 columns</p>\n",
              "</div>"
            ],
            "text/plain": [
              "                      Player Pos   Age   Tm     G    GS    MP    FG   FGA  \\\n",
              "0           Precious Achiuwa   C  23.0  TOR  55.0  12.0  20.7   3.6   7.3   \n",
              "1               Steven Adams   C  29.0  MEM  42.0  42.0  27.0   3.7   6.3   \n",
              "2                Bam Adebayo   C  25.0  MIA  75.0  75.0  34.6   8.0  14.9   \n",
              "3               Ochai Agbaji  SG  22.0  UTA  59.0  22.0  20.5   2.8   6.5   \n",
              "4               Santi Aldama  PF  22.0  MEM  77.0  20.0  21.8   3.2   6.8   \n",
              "5   Nickeil Alexander-Walker  SG  24.0  TOT  59.0   3.0  15.0   2.2   5.0   \n",
              "6   Nickeil Alexander-Walker  SG  24.0  UTA  36.0   3.0  14.7   2.3   4.7   \n",
              "7   Nickeil Alexander-Walker  SG  24.0  MIN  23.0   0.0  15.5   2.1   5.4   \n",
              "8              Grayson Allen  SG  27.0  MIL  72.0  70.0  27.4   3.4   7.7   \n",
              "9              Jarrett Allen   C  24.0  CLE  68.0  68.0  32.6   5.9   9.2   \n",
              "10             Jose Alvarado  PG  24.0  NOP  61.0  10.0  21.5   3.3   8.0   \n",
              "11             Kyle Anderson  PF  29.0  MIN  69.0  46.0  28.4   3.7   7.2   \n",
              "12     Giannis Antetokounmpo  PF  28.0  MIL  63.0  63.0  32.1  11.2  20.3   \n",
              "13    Thanasis Antetokounmpo  PF  30.0  MIL  37.0   0.0   5.6   0.5   1.2   \n",
              "14              Cole Anthony  PG  22.0  ORL  60.0   4.0  25.9   4.6  10.2   \n",
              "15                OG Anunoby  SF  25.0  TOR  67.0  67.0  35.6   6.3  13.2   \n",
              "16          Ryan Arcidiacono  PG  28.0  TOT  20.0   4.0   8.6   0.5   1.9   \n",
              "17          Ryan Arcidiacono  PG  28.0  NYK  11.0   0.0   2.4   0.1   0.5   \n",
              "18          Ryan Arcidiacono  PG  28.0  POR   9.0   4.0  16.2   0.9   3.6   \n",
              "19               Deni Avdija  SF  22.0  WAS  76.0  40.0  26.6   3.3   7.6   \n",
              "\n",
              "      FG%  ...    FT%  ORB  DRB   TRB  AST  STL  BLK  TOV   PF   PTS  \n",
              "0   0.485  ...  0.702  1.8  4.1   6.0  0.9  0.6  0.5  1.1  1.9   9.2  \n",
              "1   0.597  ...  0.364  5.1  6.5  11.5  2.3  0.9  1.1  1.9  2.3   8.6  \n",
              "2   0.540  ...  0.806  2.5  6.7   9.2  3.2  1.2  0.8  2.5  2.8  20.4  \n",
              "3   0.427  ...  0.812  0.7  1.3   2.1  1.1  0.3  0.3  0.7  1.7   7.9  \n",
              "4   0.470  ...  0.750  1.1  3.7   4.8  1.3  0.6  0.6  0.8  1.9   9.0  \n",
              "5   0.444  ...  0.667  0.3  1.5   1.7  1.8  0.5  0.4  0.9  1.5   6.2  \n",
              "6   0.488  ...  0.692  0.2  1.4   1.6  2.1  0.7  0.4  1.3  1.6   6.3  \n",
              "7   0.384  ...  0.619  0.3  1.5   1.8  1.4  0.3  0.3  0.4  1.3   5.9  \n",
              "8   0.440  ...  0.905  0.8  2.4   3.3  2.3  0.9  0.2  1.0  1.6  10.4  \n",
              "9   0.644  ...  0.733  3.3  6.5   9.8  1.7  0.8  1.2  1.4  2.3  14.3  \n",
              "10  0.411  ...  0.813  0.5  1.9   2.3  3.0  1.1  0.2  1.3  2.0   9.0  \n",
              "11  0.509  ...  0.735  1.0  4.4   5.3  4.9  1.1  0.9  1.5  2.1   9.4  \n",
              "12  0.553  ...  0.645  2.2  9.6  11.8  5.7  0.8  0.8  3.9  3.1  31.1  \n",
              "13  0.435  ...  0.500  0.4  0.8   1.2  0.4  0.1  0.1  0.3  0.6   1.4  \n",
              "14  0.454  ...  0.894  0.8  4.0   4.8  3.9  0.6  0.5  1.5  2.6  13.0  \n",
              "15  0.476  ...  0.838  1.4  3.5   5.0  2.0  1.9  0.7  2.0  3.0  16.8  \n",
              "16  0.243  ...    NaN  0.0  0.8   0.8  1.2  0.3  0.0  0.4  0.9   1.3  \n",
              "17  0.200  ...    NaN  0.0  0.4   0.4  0.2  0.2  0.0  0.1  0.3   0.3  \n",
              "18  0.250  ...    NaN  0.0  1.2   1.2  2.3  0.3  0.0  0.7  1.6   2.6  \n",
              "19  0.437  ...  0.739  1.0  5.4   6.4  2.8  0.9  0.4  1.6  2.8   9.2  \n",
              "\n",
              "[20 rows x 29 columns]"
            ]
          },
          "execution_count": 2,
          "metadata": {},
          "output_type": "execute_result"
        }
      ],
      "source": [
        "nba = pd.read_csv('C:\\Estatistica\\\\nba_data_processed.csv')\n",
        "nba.head(20)"
      ]
    },
    {
      "cell_type": "markdown",
      "metadata": {
        "id": "WY2ZdklUWaws"
      },
      "source": [
        "## Probabilidade Simples"
      ]
    },
    {
      "cell_type": "markdown",
      "metadata": {},
      "source": [
        "### Aqui calcularemos as probabilidades simples do dataset. A descrição de cada probabilidade estará abaixo de cada célula."
      ]
    },
    {
      "cell_type": "code",
      "execution_count": 3,
      "metadata": {
        "colab": {
          "base_uri": "https://localhost:8080/"
        },
        "id": "RVovkXkOBbLY",
        "outputId": "499b466a-af4e-43ec-abb4-8f8232d374f1"
      },
      "outputs": [
        {
          "name": "stdout",
          "output_type": "stream",
          "text": [
            "A probabilidade de ser titular na NBA é igual a: 22.5532%\n"
          ]
        }
      ],
      "source": [
        "probTit = len(nba[nba['GS']>=41])/len(nba)\n",
        "print('A probabilidade de ser titular na NBA é igual a: ' +str(round(probTit*100,4))+'%')"
      ]
    },
    {
      "cell_type": "markdown",
      "metadata": {},
      "source": [
        "A probabilidade de ser titular demonstra o quão difícil é ser relevante na liga. Consideramos que para um jogador ser titular, este deve ter iniciado (GS - Games Started) metade (41) ou mais da metade dos jogos de uma temporada regular da liga (82 jogos)."
      ]
    },
    {
      "cell_type": "code",
      "execution_count": 4,
      "metadata": {},
      "outputs": [
        {
          "name": "stdout",
          "output_type": "stream",
          "text": [
            "A probabilidade de ser um jogador importante na NBA é igual a: 32.6241%\n"
          ]
        }
      ],
      "source": [
        "probImp = len(nba[nba['MP']>=24])/len(nba)\n",
        "print('A probabilidade de ser um jogador importante na NBA é igual a: ' +str(round(probImp*100,4))+'%')"
      ]
    },
    {
      "cell_type": "markdown",
      "metadata": {},
      "source": [
        "A probabilidade de ser um jogador importante demonstra o quão difícil é ter espaço na liga, mesmo não sendo titular. Consideramos que para um jogador ser importante, este deve ter jogado (MP - Minutes Played) em média metade (24) ou mais da metade dos minutos de uma partida (48 minutos) durante uma temporada regular da liga."
      ]
    },
    {
      "cell_type": "code",
      "execution_count": 5,
      "metadata": {},
      "outputs": [
        {
          "name": "stdout",
          "output_type": "stream",
          "text": [
            "A probabilidade de ser um jogador que é muito agressivo na NBA é igual a: 5.1064%\n"
          ]
        }
      ],
      "source": [
        "probPF = len(nba[nba['PF']>=3])/len(nba)\n",
        "print('A probabilidade de ser um jogador que é muito agressivo na NBA é igual a: ' +str(round(probPF*100,4))+'%')"
      ]
    },
    {
      "cell_type": "markdown",
      "metadata": {},
      "source": [
        "A probabilidade de ser um jogador muito agressivo demonstra que nem todos os jogadores da liga podem jogar uma partida inteira, já que ao atingirem 6 faltas eles são ejetados. Consideramos que para um jogador ser muito agressivo, este deve ter uma média de faltas de metade ou mais das faltas permitidas (6) durante uma partida."
      ]
    },
    {
      "cell_type": "code",
      "execution_count": 6,
      "metadata": {},
      "outputs": [
        {
          "name": "stdout",
          "output_type": "stream",
          "text": [
            "A probabilidade de ser um jogador que é um bom passador na NBA é igual a: 12.9078%\n"
          ]
        }
      ],
      "source": [
        "probAst = len(nba[nba['AST']>=4])/len(nba)\n",
        "print('A probabilidade de ser um jogador que é um bom passador na NBA é igual a: ' +str(round(probAst*100,4))+'%')"
      ]
    },
    {
      "cell_type": "markdown",
      "metadata": {},
      "source": [
        "A probabilidade de ser um bom passador demonstra que nem todos os jogadores da liga podem ser considerados armadores de jogadas, mesmo que joguem numa posição que exige essa habilidade. Consideramos que para um jogador ser um bom passador, este deve ter uma média de 4 assistências ou mais durante uma temporada."
      ]
    },
    {
      "cell_type": "code",
      "execution_count": 7,
      "metadata": {},
      "outputs": [
        {
          "name": "stdout",
          "output_type": "stream",
          "text": [
            "A probabilidade de ser um jogador que está em fim de carreira na NBA é igual a: 13.3333%\n"
          ]
        }
      ],
      "source": [
        "probAge = len(nba[nba['Age']>=32])/len(nba)\n",
        "print('A probabilidade de ser um jogador que está em fim de carreira na NBA é igual a: ' +str(round(probAge*100,4))+'%')"
      ]
    },
    {
      "cell_type": "markdown",
      "metadata": {},
      "source": [
        "A probabilidade de ser um jogador em fim de carreira demonstra que nem todos os jogadores da liga podem jogar por muito tempo em alto nível. Consideramos que para um jogador estar em fim de carreira, este deve ter 32 anos ou mais."
      ]
    },
    {
      "cell_type": "code",
      "execution_count": 8,
      "metadata": {},
      "outputs": [
        {
          "name": "stdout",
          "output_type": "stream",
          "text": [
            "A probabilidade de ser um jogador que é um bom bloqueador na NBA é igual a: 11.0638%\n"
          ]
        }
      ],
      "source": [
        "probBlk = len(nba[nba['BLK']>=0.8])/len(nba)\n",
        "print('A probabilidade de ser um jogador que é um bom bloqueador na NBA é igual a: ' +str(round(probBlk*100,4))+'%')"
      ]
    },
    {
      "cell_type": "markdown",
      "metadata": {},
      "source": [
        "A probabilidade de ser um bom bloqueador demonstra que nem todos os jogadores da liga podem ser considerados bons defensores, mesmo que joguem numa posição que exige essa habilidade. Consideramos que para um jogador ser um bom bloqueador, este deve ter uma média de 0.8 bloqueios ou mais durante uma temporada."
      ]
    },
    {
      "cell_type": "code",
      "execution_count": 9,
      "metadata": {},
      "outputs": [
        {
          "name": "stdout",
          "output_type": "stream",
          "text": [
            "A probabilidade de ser um jogador que é um bom roubador de bola na NBA é igual a: 8.227%\n"
          ]
        }
      ],
      "source": [
        "probStl = len(nba[nba['STL']>=1.2])/len(nba)\n",
        "print('A probabilidade de ser um jogador que é um bom roubador de bola na NBA é igual a: ' +str(round(probStl*100,4))+'%')"
      ]
    },
    {
      "cell_type": "markdown",
      "metadata": {},
      "source": [
        "A probabilidade de ser um bom roubador de bola demonstra que nem todos os jogadores da liga podem ser considerados bons roubadores de bola, mesmo que joguem numa posição que exige essa habilidade. Consideramos que para um jogador ser um bom roubador de bola, este deve ter uma média de 1.2 roubos de bola ou mais durante uma temporada."
      ]
    },
    {
      "cell_type": "code",
      "execution_count": 10,
      "metadata": {},
      "outputs": [
        {
          "name": "stdout",
          "output_type": "stream",
          "text": [
            "A probabilidade de ser um jogador que é um bom reboteiro ofensivo na NBA é igual a: 4.9645%\n"
          ]
        }
      ],
      "source": [
        "probOrb = len(nba[nba['ORB']>=2.3])/len(nba)\n",
        "print('A probabilidade de ser um jogador que é um bom reboteiro ofensivo na NBA é igual a: ' +str(round(probOrb*100,4))+'%')"
      ]
    },
    {
      "cell_type": "markdown",
      "metadata": {},
      "source": [
        "A probabilidade de ser um bom reboteiro ofensivo demonstra que nem todos os jogadores da liga podem ser considerados bons reboteiros ofensivos, mesmo que joguem numa posição que exige essa habilidade. Consideramos que para um jogador ser um bom reboteiro ofensivo, este deve ter uma média de 2.3 rebotes ofensivos ou mais durante uma temporada."
      ]
    },
    {
      "cell_type": "code",
      "execution_count": 11,
      "metadata": {},
      "outputs": [
        {
          "name": "stdout",
          "output_type": "stream",
          "text": [
            "A probabilidade de ser um jogador que é um bom arremessador de 3 pontos na NBA é igual a: 7.6596%\n"
          ]
        }
      ],
      "source": [
        "prob3P = len(nba[nba['3P']>=2.5])/len(nba)\n",
        "print('A probabilidade de ser um jogador que é um bom arremessador de 3 pontos na NBA é igual a: ' +str(round(prob3P*100,4))+'%')"
      ]
    },
    {
      "cell_type": "markdown",
      "metadata": {},
      "source": [
        "Arremessar de 3 pontos na liga é muito mais difícil que arremessos de meia distância, bandejas ou enterradas, e os dados mostram isso. Hoje em dia na liga, arremessos de 3 são indispensáveis para um time ter sucesso. Consideramos que para um jogador ser um bom arremessador de 3 pontos, este deve ter uma média de 2.5 arremessos de 3 pontos ou mais em partidas durante uma temporada."
      ]
    },
    {
      "cell_type": "code",
      "execution_count": 12,
      "metadata": {},
      "outputs": [
        {
          "name": "stdout",
          "output_type": "stream",
          "text": [
            "A probabilidade de ser um jogador que é um bom arremessador de 2 pontos na NBA é igual a: 20.4255%\n"
          ]
        }
      ],
      "source": [
        "prob2P = len(nba[nba['2P']>=3.5])/len(nba)\n",
        "print('A probabilidade de ser um jogador que é um bom arremessador de 2 pontos na NBA é igual a: ' +str(round(prob2P*100,4))+'%')"
      ]
    },
    {
      "cell_type": "markdown",
      "metadata": {},
      "source": [
        "Arremessos de 2 pontos na liga são muito mais fáceis que arremessos de 3 pontos, e os dados mostram isso. Consideramos que para um jogador ser um bom arremessador de 2 pontos, este deve ter uma média de 3.5 arremessos de 2 pontos ou mais em partidas durante uma temporada."
      ]
    },
    {
      "cell_type": "code",
      "execution_count": 13,
      "metadata": {},
      "outputs": [
        {
          "name": "stdout",
          "output_type": "stream",
          "text": [
            "A probabilidade de ser um jogador que é um bom reboteiro defensivo na NBA é igual a: 12.9078%\n"
          ]
        }
      ],
      "source": [
        "probDrb = len(nba[nba['DRB']>=4.5])/len(nba)\n",
        "print('A probabilidade de ser um jogador que é um bom reboteiro defensivo na NBA é igual a: ' +str(round(probDrb*100,4))+'%')"
      ]
    },
    {
      "cell_type": "markdown",
      "metadata": {},
      "source": [
        "A probabilidade de ser um bom reboteiro defensivo demonstra a dificuldade de ser considerado um bom reboteiro defensivo, mesmo que jogando numa posição que exige essa habilidade. Consideramos que para um jogador ser um bom reboteiro defensivo, este deve ter uma média de 4.5 rebotes defensivos ou mais em partidas durante uma temporada.\n"
      ]
    },
    {
      "cell_type": "markdown",
      "metadata": {
        "id": "P386FkpMWkrn"
      },
      "source": [
        "## Probabilidade da União"
      ]
    },
    {
      "cell_type": "code",
      "execution_count": 14,
      "metadata": {
        "colab": {
          "base_uri": "https://localhost:8080/"
        },
        "id": "BUPCz6PUE6AH",
        "outputId": "d681cdcb-fa38-4976-baaa-3db029f95834"
      },
      "outputs": [
        {
          "name": "stdout",
          "output_type": "stream",
          "text": [
            "A probabilidade de ter bons \"Hustle Stats\" na NBA é igual a: 19.5745%\n"
          ]
        }
      ],
      "source": [
        "probHst = len(nba[((nba['BLK']>=0.8) | (nba['STL']>=1.2) | (nba['ORB']>=2.3))])/len(nba)\n",
        "print('A probabilidade de ter bons \"Hustle Stats\" na NBA é igual a: ' +str(round(probHst*100,4))+'%')"
      ]
    },
    {
      "cell_type": "markdown",
      "metadata": {},
      "source": [
        "A probabilidade de ter bons \"Hustle Stats\" (nome dado aos dados de Roubos (STL), Bloqueios (BLK) e Rebotes Ofensivos (ORB)) leva em consideração estes dados com valores maiores que 0.8, 1.2 e 2.3, respectivamente. Um jogador com tais dados é considerado um jogador fora da curva mesmo com dados considerados gerais (Arremessos de quadra (FG), Assistências (AST) e Rebotes defensivos (DRB)) na média."
      ]
    },
    {
      "cell_type": "code",
      "execution_count": 15,
      "metadata": {},
      "outputs": [
        {
          "name": "stdout",
          "output_type": "stream",
          "text": [
            "A probabilidade de ter um alto FG% ou AST na NBA é igual a: 21.2766%\n"
          ]
        }
      ],
      "source": [
        "probHighFGorAst = len(nba[((nba['FG%']>=0.500) & (nba['FGA']>=6.0)) | (nba['AST']>=4.0)])/len(nba)\n",
        "print('A probabilidade de ter um alto FG% ou AST na NBA é igual a: ' +str(round(probHighFGorAst*100,4))+'%')"
      ]
    },
    {
      "cell_type": "code",
      "execution_count": 16,
      "metadata": {},
      "outputs": [
        {
          "name": "stdout",
          "output_type": "stream",
          "text": [
            "A probabilidade de ser um bom jogador defensivo na NBA é igual a: 18.4397%\n"
          ]
        }
      ],
      "source": [
        "probDef = len(nba[(nba['DRB']>=4.5) | (nba['BLK']>=0.8)])/len(nba)\n",
        "print('A probabilidade de ser um bom jogador defensivo na NBA é igual a: ' +str(round(probDef*100,4))+'%')"
      ]
    },
    {
      "cell_type": "code",
      "execution_count": null,
      "metadata": {},
      "outputs": [],
      "source": []
    },
    {
      "cell_type": "markdown",
      "metadata": {
        "id": "2yL9BcD4WoFJ"
      },
      "source": [
        "## Probabilidade da Intersecção"
      ]
    },
    {
      "cell_type": "code",
      "execution_count": 17,
      "metadata": {
        "colab": {
          "base_uri": "https://localhost:8080/"
        },
        "id": "T5ZqZYCYTyRo",
        "outputId": "6d5dbec7-455a-464a-debd-49b40e275cda"
      },
      "outputs": [
        {
          "name": "stdout",
          "output_type": "stream",
          "text": [
            "A probabilidade de ser excepcional na NBA é igual a: 1.4184%\n"
          ]
        }
      ],
      "source": [
        "prob504090 = len(nba[((nba['FG%']>=0.500) & (nba['3P%']>=0.400) & (nba['FT%']>=0.900))])/len(nba)\n",
        "print('A probabilidade de ser excepcional na NBA é igual a: ' +str(round(prob504090*100,4))+'%')"
      ]
    },
    {
      "cell_type": "markdown",
      "metadata": {},
      "source": [
        "A probabilidade de ser excepcional no decorrer de uma temporada da NBA leva em consideração a intersecção dos valores da porcentagem de arremessos de quadra acertados, a porcentagem de arremessos de 3 pontos acertados e a porcentagem de arremessos livres acertados. Caso esses valores sejam maiores que 50% (0.500), 40% (0.400) e 90% (0.900) respectivamente, um jogador tem sua temporada considerada excepcional."
      ]
    },
    {
      "cell_type": "code",
      "execution_count": 18,
      "metadata": {},
      "outputs": [
        {
          "name": "stdout",
          "output_type": "stream",
          "text": [
            "A probabilidade de ter uma boa porcentagem de arremessos de quadra na NBA é igual a: 11.3475%\n"
          ]
        }
      ],
      "source": [
        "probHighFG = len(nba[((nba['FG%']>=0.500) & (nba['FGA']>=6.0))])/len(nba)\n",
        "print('A probabilidade de ter uma boa porcentagem de arremessos de quadra na NBA é igual a: ' +str(round(probHighFG*100,4))+'%')"
      ]
    },
    {
      "cell_type": "code",
      "execution_count": 19,
      "metadata": {},
      "outputs": [
        {
          "name": "stdout",
          "output_type": "stream",
          "text": [
            "A probabilidade de ter bons \"Hustle Stats\" e ter boas médias de cestas na NBA é igual a: 6.9504%\n"
          ]
        }
      ],
      "source": [
        "probHstFG =  len(nba[((nba['FG%']>=0.500) & (nba['FGA']>=6.0)) & ((nba['BLK']>=0.8) | (nba['STL']>=1.2) | (nba['ORB']>=2.3))])/len(nba)\n",
        "print('A probabilidade de ter bons \"Hustle Stats\" e ter boas médias de cestas na NBA é igual a: ' +str(round(probHstFG*100,4))+'%')"
      ]
    },
    {
      "cell_type": "code",
      "execution_count": 20,
      "metadata": {},
      "outputs": [
        {
          "name": "stdout",
          "output_type": "stream",
          "text": [
            "A probabilidade de ser titular e ter bons \"Hustle Stats\" na NBA é igual a: 4.4147%\n"
          ]
        }
      ],
      "source": [
        "probHstTit = len(nba[nba['GS']>=41])/len(nba) * probHst\n",
        "print('A probabilidade de ser titular e ter bons \"Hustle Stats\" na NBA é igual a: ' +str(round(probHstTit*100,4))+'%')"
      ]
    },
    {
      "cell_type": "markdown",
      "metadata": {
        "id": "wehS-3ELWrU4"
      },
      "source": [
        "## Probabilidade do Complemento"
      ]
    },
    {
      "cell_type": "code",
      "execution_count": 22,
      "metadata": {
        "id": "okGLPx_CW4NM"
      },
      "outputs": [
        {
          "name": "stdout",
          "output_type": "stream",
          "text": [
            "A probabilidade de não ter boas médias de cestas e de ter bons \"Hustle Stats\" na NBA é igual a: 17.3533%\n"
          ]
        }
      ],
      "source": [
        "probHstnotFG = probHst - (probHighFG * probHst)\n",
        "print('A probabilidade de não ter boas médias de cestas e de ter bons \"Hustle Stats\" na NBA é igual a: ' +str(round(probHstnotFG*100,4))+'%')"
      ]
    },
    {
      "cell_type": "markdown",
      "metadata": {
        "id": "ZeYshDCBWxmB"
      },
      "source": [
        "## Probabilidade da Diferença"
      ]
    },
    {
      "cell_type": "code",
      "execution_count": 23,
      "metadata": {},
      "outputs": [
        {
          "name": "stdout",
          "output_type": "stream",
          "text": [
            "A probabilidade de ter boas médias de cestas e não ter bons \"Hustle Stats\" na NBA é igual a: 10.5588%\n"
          ]
        }
      ],
      "source": [
        "probFGnotHst = probHighFG - (probHighFG * probHstFG)\n",
        "print('A probabilidade de ter boas médias de cestas e não ter bons \"Hustle Stats\" na NBA é igual a: ' +str(round(probFGnotHst*100,4))+'%')"
      ]
    },
    {
      "cell_type": "code",
      "execution_count": 24,
      "metadata": {},
      "outputs": [
        {
          "name": "stdout",
          "output_type": "stream",
          "text": [
            "A probabilidade de ter boas médias de cestas e não ser um bom bloqueador na NBA é igual a: 6.2411%\n"
          ]
        }
      ],
      "source": [
        "probFGnotBlk = len(nba[(nba['FG%']>=0.500) & (nba['FGA']>=6.0) & (nba['BLK']<0.8)])/len(nba)\n",
        "print('A probabilidade de ter boas médias de cestas e não ser um bom bloqueador na NBA é igual a: ' +str(round(probFGnotBlk*100,4))+'%')"
      ]
    },
    {
      "cell_type": "code",
      "execution_count": 25,
      "metadata": {},
      "outputs": [
        {
          "name": "stdout",
          "output_type": "stream",
          "text": [
            "A probabilidade de ter boas médias de cestas e não ser um bom roubador de bola na NBA é igual a: 9.7872%\n"
          ]
        }
      ],
      "source": [
        "probFGnotStl = len(nba[(nba['FG%']>=0.500) & (nba['FGA']>=6.0) & (nba['STL']<1.2)])/len(nba)\n",
        "print('A probabilidade de ter boas médias de cestas e não ser um bom roubador de bola na NBA é igual a: ' +str(round(probFGnotStl*100,4))+'%')"
      ]
    },
    {
      "cell_type": "code",
      "execution_count": 26,
      "metadata": {},
      "outputs": [
        {
          "name": "stdout",
          "output_type": "stream",
          "text": [
            "A probabilidade de ter boas médias de cestas e não ser um bom reboteiro ofensivo na NBA é igual a: 7.9433%\n"
          ]
        }
      ],
      "source": [
        "probFGnotOrb = len(nba[(nba['FG%']>=0.500) & (nba['FGA']>=6.0) & (nba['ORB']<2.3)])/len(nba)\n",
        "print('A probabilidade de ter boas médias de cestas e não ser um bom reboteiro ofensivo na NBA é igual a: ' +str(round(probFGnotOrb*100,4))+'%')"
      ]
    },
    {
      "cell_type": "code",
      "execution_count": 27,
      "metadata": {},
      "outputs": [
        {
          "name": "stdout",
          "output_type": "stream",
          "text": [
            "A probabilidade de ser titular e não ter boas médias de cestas na NBA é igual a: 0.5674%\n"
          ]
        }
      ],
      "source": [
        "probTitnotFG = len(nba[(nba['FG%']<0.500) & (nba['FGA']<6.0) & (nba['GS']>=41)])/len(nba)\n",
        "print('A probabilidade de ser titular e não ter boas médias de cestas na NBA é igual a: ' +str(round(probTitnotFG*100,4))+'%')"
      ]
    },
    {
      "cell_type": "code",
      "execution_count": 28,
      "metadata": {},
      "outputs": [
        {
          "name": "stdout",
          "output_type": "stream",
          "text": [
            "A probabilidade de ter boas médias de cestas e não ser titular na NBA é igual a: 4.6809%\n"
          ]
        }
      ],
      "source": [
        "probFGnotTit = len(nba[(nba['FG%']>=0.500) & (nba['FGA']>=6.0) & (nba['GS']<41)])/len(nba)\n",
        "print('A probabilidade de ter boas médias de cestas e não ser titular na NBA é igual a: ' +str(round(probFGnotTit*100,4))+'%')"
      ]
    },
    {
      "cell_type": "markdown",
      "metadata": {},
      "source": [
        "## Probabilidade Condicional"
      ]
    },
    {
      "cell_type": "code",
      "execution_count": 29,
      "metadata": {},
      "outputs": [
        {
          "name": "stdout",
          "output_type": "stream",
          "text": [
            "A probabilidade de ter bons \"Hustle Stats\" dado que tem boas médias de cestas na NBA é igual a: 61.25%\n"
          ]
        }
      ],
      "source": [
        "probHstGivenFG = probHstFG / probHighFG\n",
        "print('A probabilidade de ter bons \"Hustle Stats\" dado que tem boas médias de cestas na NBA é igual a: ' +str(round(probHstGivenFG*100,4))+'%')"
      ]
    },
    {
      "cell_type": "code",
      "execution_count": 35,
      "metadata": {},
      "outputs": [
        {
          "name": "stdout",
          "output_type": "stream",
          "text": [
            "A probabilidade de ter bons \"Hustle Stats\" dado que tem boas médias de cestas na NBA é igual a: 35.5072%\n"
          ]
        }
      ],
      "source": [
        "probHstasda = (probHstGivenFG*probHighFG)/probHst\n",
        "print('A probabilidade de ter bons \"Hustle Stats\" dado que tem boas médias de cestas na NBA é igual a: ' +str(round(probHstasda*100,4))+'%')"
      ]
    },
    {
      "cell_type": "markdown",
      "metadata": {},
      "source": [
        "## Teorema de Bayes"
      ]
    },
    {
      "cell_type": "code",
      "execution_count": 52,
      "metadata": {},
      "outputs": [
        {
          "name": "stdout",
          "output_type": "stream",
          "text": [
            "A probabilidade de ter um bom arremesso de 3 pontos na NBA é igual a: 50.0%\n"
          ]
        }
      ],
      "source": [
        "probFG3P = len((nba['3P']))/(len((nba['3PA']))+len((nba['2PA'])))\n",
        "print('A probabilidade de ter um bom arremesso de 3 pontos na NBA é igual a: ' +str(round(probFG3P*100,4))+'%')"
      ]
    },
    {
      "cell_type": "markdown",
      "metadata": {},
      "source": [
        "## Variáveis Aleatórias"
      ]
    },
    {
      "cell_type": "code",
      "execution_count": 31,
      "metadata": {},
      "outputs": [],
      "source": [
        "nba['Idade'] = nba['Age']"
      ]
    },
    {
      "cell_type": "code",
      "execution_count": 32,
      "metadata": {},
      "outputs": [
        {
          "data": {
            "text/plain": [
              "Idade\n",
              "23.0    84\n",
              "25.0    66\n",
              "24.0    63\n",
              "22.0    55\n",
              "26.0    51\n",
              "27.0    50\n",
              "21.0    49\n",
              "29.0    38\n",
              "30.0    33\n",
              "28.0    32\n",
              "20.0    30\n",
              "34.0    25\n",
              "32.0    25\n",
              "31.0    20\n",
              "33.0    17\n",
              "19.0    14\n",
              "36.0    12\n",
              "35.0     9\n",
              "37.0     3\n",
              "42.0     1\n",
              "39.0     1\n",
              "38.0     1\n",
              "Name: count, dtype: int64"
            ]
          },
          "execution_count": 32,
          "metadata": {},
          "output_type": "execute_result"
        }
      ],
      "source": [
        "nba['Idade'].value_counts()"
      ]
    },
    {
      "cell_type": "code",
      "execution_count": 33,
      "metadata": {},
      "outputs": [
        {
          "data": {
            "text/plain": [
              "Idade\n",
              "19.0    14\n",
              "20.0    30\n",
              "21.0    49\n",
              "22.0    55\n",
              "23.0    84\n",
              "24.0    63\n",
              "25.0    66\n",
              "26.0    51\n",
              "27.0    50\n",
              "28.0    32\n",
              "29.0    38\n",
              "30.0    33\n",
              "31.0    20\n",
              "32.0    25\n",
              "33.0    17\n",
              "34.0    25\n",
              "35.0     9\n",
              "36.0    12\n",
              "37.0     3\n",
              "38.0     1\n",
              "39.0     1\n",
              "42.0     1\n",
              "Name: count, dtype: int64"
            ]
          },
          "execution_count": 33,
          "metadata": {},
          "output_type": "execute_result"
        }
      ],
      "source": [
        "nba['Idade'].value_counts(sort=False).sort_index()"
      ]
    }
  ],
  "metadata": {
    "colab": {
      "provenance": []
    },
    "kernelspec": {
      "display_name": "Python 3",
      "name": "python3"
    },
    "language_info": {
      "codemirror_mode": {
        "name": "ipython",
        "version": 3
      },
      "file_extension": ".py",
      "mimetype": "text/x-python",
      "name": "python",
      "nbconvert_exporter": "python",
      "pygments_lexer": "ipython3",
      "version": "3.10.7"
    }
  },
  "nbformat": 4,
  "nbformat_minor": 0
}
